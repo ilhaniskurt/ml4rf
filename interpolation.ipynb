{
 "cells": [
  {
   "cell_type": "code",
   "execution_count": 1,
   "id": "95546e7f",
   "metadata": {},
   "outputs": [],
   "source": [
    "from enum import Enum\n",
    "from pathlib import Path\n",
    "from typing import TypedDict\n",
    "\n",
    "import pandas as pd\n",
    "import torch\n",
    "import torch.nn as nn\n",
    "import torch.optim as optim\n",
    "\n",
    "from helpers.evals import evaluate_model_with_scaling\n",
    "from helpers.features import process_dataset\n",
    "from helpers.loaders import prepare_data_for_pytorch\n",
    "from helpers.models import FrequencyAwareNetwork\n",
    "from helpers.trainers import train_model"
   ]
  },
  {
   "cell_type": "markdown",
   "id": "71dfd5de",
   "metadata": {},
   "source": [
    "### Config\n"
   ]
  },
  {
   "cell_type": "code",
   "execution_count": 2,
   "id": "84cdd1b7",
   "metadata": {},
   "outputs": [],
   "source": [
    "ANALYSIS = False\n",
    "VERBOSE = True\n",
    "\n",
    "DATASET_FILE_PATH = \"dataset.csv\"\n",
    "\n",
    "GRAPH_FOLDER = \"graphs\"\n",
    "MODELS = \"models\"\n",
    "PREDICTIONS = \"predictions\"\n",
    "SUBFOLDER = \"baseline\""
   ]
  },
  {
   "cell_type": "markdown",
   "id": "09b872cd",
   "metadata": {},
   "source": [
    "### Data\n"
   ]
  },
  {
   "cell_type": "code",
   "execution_count": 3,
   "id": "06b215b7",
   "metadata": {},
   "outputs": [
    {
     "name": "stdout",
     "output_type": "stream",
     "text": [
      "Identified 18 frequency-related features and 13 other features\n"
     ]
    }
   ],
   "source": [
    "df = pd.read_csv(DATASET_FILE_PATH)\n",
    "\n",
    "(\n",
    "    X_train,\n",
    "    Y_train,\n",
    "    X_test,\n",
    "    Y_test,\n",
    "    voltage_scaler,\n",
    "    freq_scaler,\n",
    "    freq_idx,\n",
    "    other_idx,\n",
    ") = process_dataset(df, test_size=0.2, random_state=42)"
   ]
  },
  {
   "cell_type": "markdown",
   "id": "ae91ca82",
   "metadata": {},
   "source": [
    "### Training\n"
   ]
  },
  {
   "cell_type": "code",
   "execution_count": 4,
   "id": "03b7f9ab",
   "metadata": {},
   "outputs": [],
   "source": [
    "best_hparams = {\n",
    "    \"hidden_sizes\": [384, 768, 1536],\n",
    "    \"dropout_rate\": 0.1,\n",
    "    \"learning_rate\": 0.002,\n",
    "    \"batch_size\": 2048,\n",
    "    \"epochs\": 300,\n",
    "    \"patience\": 40,\n",
    "    \"activation\": \"gelu\",\n",
    "    \"lr_scheduler_type\": \"reduce_on_plateau\",\n",
    "}\n",
    "\n",
    "model_dir = Path(MODELS) / SUBFOLDER\n",
    "device = torch.device(\"cuda\" if torch.cuda.is_available() else \"cpu\")"
   ]
  },
  {
   "cell_type": "code",
   "execution_count": 5,
   "id": "48ba5cad",
   "metadata": {},
   "outputs": [],
   "source": [
    "class SchedulerTypes(str, Enum):\n",
    "    REDUCE_ON_PLATEAU = \"reduce_on_plateau\"\n",
    "    STEP = \"step\"\n",
    "    COSINE_ANNEALING = \"cosine_annealing\"\n",
    "    ONE_CYCLE = \"one_cycle\"\n",
    "    EXPONENTIAL = \"exponential\"\n",
    "    NONE = \"none\"\n",
    "\n",
    "\n",
    "class ActivationTypes(str, Enum):\n",
    "    GELU = \"gelu\"\n",
    "    RELU = \"relu\"\n",
    "    SILU = \"silu\"\n",
    "\n",
    "\n",
    "class Hyperparameters(TypedDict):\n",
    "    hidden_sizes: list[int]\n",
    "    dropout_rate: float\n",
    "    learning_rate: float\n",
    "    activation: ActivationTypes\n",
    "    lr_scheduler_type: SchedulerTypes\n",
    "    epochs: int\n",
    "    patience: int\n",
    "    batch_size: int\n",
    "    scale_y: bool\n",
    "\n",
    "\n",
    "class ModelDict(TypedDict):\n",
    "    model_name: str\n",
    "    labels: tuple[str, str]\n",
    "    hparams: Hyperparameters\n"
   ]
  },
  {
   "cell_type": "code",
   "execution_count": 6,
   "id": "1329a937",
   "metadata": {},
   "outputs": [],
   "source": [
    "s11_params: Hyperparameters = {\n",
    "    \"learning_rate\": 0.001,\n",
    "    \"dropout_rate\": 0.1,\n",
    "    \"batch_size\": 1024,\n",
    "    \"epochs\": 200,\n",
    "    \"patience\": 30,\n",
    "    \"hidden_sizes\": [256, 512, 1024, 512],\n",
    "    \"lr_scheduler_type\": SchedulerTypes.REDUCE_ON_PLATEAU,\n",
    "    \"activation\": ActivationTypes.GELU,\n",
    "    \"scale_y\": False,\n",
    "}\n",
    "s12_params: Hyperparameters = {\n",
    "    \"hidden_sizes\": [384, 768, 1536, 768, 384],\n",
    "    \"dropout_rate\": 0.1,\n",
    "    \"learning_rate\": 0.002,\n",
    "    \"batch_size\": 1024,\n",
    "    \"epochs\": 300,\n",
    "    \"patience\": 40,\n",
    "    \"activation\": ActivationTypes.GELU,\n",
    "    \"lr_scheduler_type\": SchedulerTypes.REDUCE_ON_PLATEAU,\n",
    "    \"scale_y\": True,\n",
    "}\n",
    "\n",
    "s21_params: Hyperparameters = {\n",
    "    \"learning_rate\": 0.002,\n",
    "    \"dropout_rate\": 0.1,\n",
    "    \"batch_size\": 1024,\n",
    "    \"epochs\": 200,\n",
    "    \"patience\": 30,\n",
    "    \"hidden_sizes\": [1024, 2048, 2048, 1024],\n",
    "    \"lr_scheduler_type\": SchedulerTypes.REDUCE_ON_PLATEAU,\n",
    "    \"activation\": ActivationTypes.GELU,\n",
    "    \"scale_y\": False,\n",
    "}\n",
    "\n",
    "s22_params: Hyperparameters = {\n",
    "    \"learning_rate\": 0.002,\n",
    "    \"dropout_rate\": 0.1,\n",
    "    \"batch_size\": 1024,\n",
    "    \"epochs\": 200,\n",
    "    \"patience\": 30,\n",
    "    \"hidden_sizes\": [1024, 1536, 2048, 1536, 1024],\n",
    "    \"lr_scheduler_type\": SchedulerTypes.REDUCE_ON_PLATEAU,\n",
    "    \"activation\": ActivationTypes.GELU,\n",
    "    \"scale_y\": False,\n",
    "}"
   ]
  },
  {
   "cell_type": "code",
   "execution_count": 7,
   "id": "472001c0",
   "metadata": {},
   "outputs": [],
   "source": [
    "models_to_train: list[ModelDict] = [\n",
    "    {\n",
    "        \"model_name\": \"s11\",\n",
    "        \"labels\": (\"S_deemb(1,1)_real\", \"S_deemb(1,1)_imag\"),\n",
    "        \"hparams\": s11_params,\n",
    "    },\n",
    "    {\n",
    "        \"model_name\": \"s12\",\n",
    "        \"labels\": (\"S_deemb(1,2)_real\", \"S_deemb(1,2)_imag\"),\n",
    "        \"hparams\": s12_params,\n",
    "    },\n",
    "    {\n",
    "        \"model_name\": \"s21\",\n",
    "        \"labels\": (\"S_deemb(2,1)_real\", \"S_deemb(2,1)_imag\"),\n",
    "        \"hparams\": s21_params,\n",
    "    },\n",
    "    {\n",
    "        \"model_name\": \"s22\",\n",
    "        \"labels\": (\"S_deemb(2,2)_real\", \"S_deemb(2,2)_imag\"),\n",
    "        \"hparams\": s22_params,\n",
    "    },\n",
    "]"
   ]
  },
  {
   "cell_type": "code",
   "execution_count": 8,
   "id": "4c72d7a3",
   "metadata": {},
   "outputs": [
    {
     "name": "stdout",
     "output_type": "stream",
     "text": [
      "Training s11 model\n"
     ]
    },
    {
     "name": "stderr",
     "output_type": "stream",
     "text": [
      "Training Epochs:  26%|██▌       | 51/200 [00:18<00:54,  2.75it/s, Epoch=51, Val Loss=0.007028, Best=0.006697, LR=1e-8]  \n"
     ]
    },
    {
     "name": "stdout",
     "output_type": "stream",
     "text": [
      "Early stopping triggered.\n",
      "Training s12 model\n"
     ]
    },
    {
     "name": "stderr",
     "output_type": "stream",
     "text": [
      "Training Epochs:  28%|██▊       | 84/300 [00:32<01:22,  2.62it/s, Epoch=84, Val Loss=0.073448, Best=0.073419, LR=2e-9]  \n"
     ]
    },
    {
     "name": "stdout",
     "output_type": "stream",
     "text": [
      "Early stopping triggered.\n",
      "Training s21 model\n"
     ]
    },
    {
     "name": "stderr",
     "output_type": "stream",
     "text": [
      "Training Epochs:  50%|█████     | 100/200 [00:55<00:55,  1.79it/s, Epoch=100, Val Loss=0.227854, Best=0.225452, LR=2e-9]\n"
     ]
    },
    {
     "name": "stdout",
     "output_type": "stream",
     "text": [
      "Early stopping triggered.\n",
      "Training s22 model\n"
     ]
    },
    {
     "name": "stderr",
     "output_type": "stream",
     "text": [
      "Training Epochs:  60%|██████    | 121/200 [01:04<00:42,  1.88it/s, Epoch=121, Val Loss=0.003770, Best=0.003754, LR=2e-9]"
     ]
    },
    {
     "name": "stdout",
     "output_type": "stream",
     "text": [
      "Early stopping triggered.\n"
     ]
    },
    {
     "name": "stderr",
     "output_type": "stream",
     "text": [
      "\n"
     ]
    }
   ],
   "source": [
    "results = {}\n",
    "\n",
    "for model_to_train in models_to_train:\n",
    "    real_label, imag_label = model_to_train[\"labels\"]\n",
    "    label_pair = [real_label, imag_label]\n",
    "    y_train_pair = Y_train[label_pair]\n",
    "    y_test_pair = Y_test[label_pair]\n",
    "\n",
    "    print(f\"Training {model_to_train['model_name']} model\")\n",
    "\n",
    "    X_train_tensor, Y_train_tensor, X_test_tensor, Y_test_tensor, loader, y_scaler = (\n",
    "        prepare_data_for_pytorch(\n",
    "            X_train,\n",
    "            y_train_pair,\n",
    "            X_test,\n",
    "            y_test_pair,\n",
    "            batch_size=best_hparams[\"batch_size\"],\n",
    "            scale_y=model_to_train[\"hparams\"][\"scale_y\"],\n",
    "        )\n",
    "    )\n",
    "\n",
    "    model = FrequencyAwareNetwork(\n",
    "        len(freq_idx),\n",
    "        len(other_idx),\n",
    "        model_to_train[\"hparams\"][\"hidden_sizes\"],\n",
    "        model_to_train[\"hparams\"][\"dropout_rate\"],\n",
    "        model_to_train[\"hparams\"][\"activation\"],\n",
    "    )\n",
    "    model.set_feature_indices(freq_idx, other_idx)\n",
    "\n",
    "    optimizer = optim.Adam(\n",
    "        model.parameters(), lr=model_to_train[\"hparams\"][\"learning_rate\"]\n",
    "    )\n",
    "    criterion = nn.MSELoss()\n",
    "    trained_model = train_model(\n",
    "        model,\n",
    "        loader,\n",
    "        X_test_tensor,\n",
    "        Y_test_tensor,\n",
    "        criterion,\n",
    "        optimizer,\n",
    "        device,\n",
    "        epochs=model_to_train[\"hparams\"][\"epochs\"],\n",
    "        patience=model_to_train[\"hparams\"][\"patience\"],\n",
    "        scheduler_str=model_to_train[\"hparams\"][\"lr_scheduler_type\"],\n",
    "    )\n",
    "\n",
    "    metrics = evaluate_model_with_scaling(\n",
    "        trained_model,\n",
    "        X_test_tensor,\n",
    "        Y_test,\n",
    "        label_pair,\n",
    "        device,\n",
    "        y_scaler,\n",
    "    )\n",
    "    results[model_to_train[\"model_name\"]] = metrics"
   ]
  },
  {
   "cell_type": "markdown",
   "id": "825c2dae",
   "metadata": {},
   "source": [
    "### Results\n"
   ]
  },
  {
   "cell_type": "code",
   "execution_count": 17,
   "id": "e17fb12c",
   "metadata": {},
   "outputs": [
    {
     "name": "stdout",
     "output_type": "stream",
     "text": [
      "----------------------------------------\n",
      "----------------------------------------\n",
      "Performance metrics for s11:\n",
      "\n",
      "\tS_deemb(1,1)_real:\n",
      "\tRMSE: 0.102036\n",
      "\tR²: 0.970955\n",
      "\tMAE: 0.059301\n",
      "\tMAPE: 61.87%\n",
      "\n",
      "\tS_deemb(1,1)_imag:\n",
      "\tRMSE: 0.061753\n",
      "\tR²: 0.942940\n",
      "\tMAE: 0.040302\n",
      "\tMAPE: 36.14%\n",
      "\n",
      "Average metrics for s11:\n",
      "\n",
      "\tR²: 0.956947\n",
      "\tRMSE: 0.081894\n",
      "\tMAE: 0.049801\n",
      "\tMAPE: 49.00%\n",
      "----------------------------------------\n",
      "----------------------------------------\n",
      "Performance metrics for s12:\n",
      "\n",
      "\tS_deemb(1,2)_real:\n",
      "\tRMSE: 0.033196\n",
      "\tR²: 0.918265\n",
      "\tMAE: 0.015492\n",
      "\tSMAPE: 21.96%\n",
      "\n",
      "\tS_deemb(1,2)_imag:\n",
      "\tRMSE: 0.021382\n",
      "\tR²: 0.934692\n",
      "\tMAE: 0.011711\n",
      "\tSMAPE: 17.28%\n",
      "\n",
      "Average metrics for s12:\n",
      "\n",
      "\tR²: 0.926479\n",
      "\tRMSE: 0.027289\n",
      "\tMAE: 0.013602\n",
      "\tSMAPE: 19.62%\n",
      "----------------------------------------\n",
      "----------------------------------------\n",
      "Performance metrics for s21:\n",
      "\n",
      "\tS_deemb(2,1)_real:\n",
      "\tRMSE: 0.546739\n",
      "\tR²: 0.977943\n",
      "\tMAE: 0.146371\n",
      "\tMAPE: 1591.59%\n",
      "\n",
      "\tS_deemb(2,1)_imag:\n",
      "\tRMSE: 0.396746\n",
      "\tR²: 0.967683\n",
      "\tMAE: 0.116159\n",
      "\tMAPE: 22.75%\n",
      "\n",
      "Average metrics for s21:\n",
      "\n",
      "\tR²: 0.972813\n",
      "\tRMSE: 0.471742\n",
      "\tMAE: 0.131265\n",
      "\tMAPE: 807.17%\n",
      "----------------------------------------\n",
      "----------------------------------------\n",
      "Performance metrics for s22:\n",
      "\n",
      "\tS_deemb(2,2)_real:\n",
      "\tRMSE: 0.077752\n",
      "\tR²: 0.968338\n",
      "\tMAE: 0.041083\n",
      "\tMAPE: 27.60%\n",
      "\n",
      "\tS_deemb(2,2)_imag:\n",
      "\tRMSE: 0.038408\n",
      "\tR²: 0.952598\n",
      "\tMAE: 0.022646\n",
      "\tMAPE: 10.78%\n",
      "\n",
      "Average metrics for s22:\n",
      "\n",
      "\tR²: 0.960468\n",
      "\tRMSE: 0.058080\n",
      "\tMAE: 0.031864\n",
      "\tMAPE: 19.19%\n",
      "----------------------------------------\n",
      "----------------------------------------\n"
     ]
    }
   ],
   "source": [
    "for model_to_train in models_to_train:\n",
    "    model_name = model_to_train[\"model_name\"]\n",
    "\n",
    "    metrics, avg_metrics, predictions_original = results[model_name]\n",
    "\n",
    "    print(\"--\" * 20)\n",
    "    print(\"--\" * 20)\n",
    "    print(f\"Performance metrics for {model_name}:\")\n",
    "    for component, metric in metrics.items():\n",
    "        print(f\"\\n\\t{component}:\")\n",
    "        print(f\"\\tRMSE: {metric['rmse']:.6f}\")\n",
    "        print(f\"\\tR²: {metric['r2']:.6f}\")\n",
    "        print(f\"\\tMAE: {metric['mae']:.6f}\")\n",
    "        if \"smape\" in metric:\n",
    "            print(f\"\\tSMAPE: {metric['smape']:.2f}%\")\n",
    "        else:\n",
    "            print(f\"\\tMAPE: {metric['mape']:.2f}%\")\n",
    "\n",
    "    print(f\"\\nAverage metrics for {model_name}:\")\n",
    "    print(f\"\\n\\tR²: {avg_metrics['r2']:.6f}\")\n",
    "    print(f\"\\tRMSE: {avg_metrics['rmse']:.6f}\")\n",
    "    print(f\"\\tMAE: {avg_metrics['mae']:.6f}\")\n",
    "    if \"smape\" in avg_metrics:\n",
    "        print(f\"\\tSMAPE: {avg_metrics['smape']:.2f}%\")\n",
    "    else:\n",
    "        print(f\"\\tMAPE: {avg_metrics['mape']:.2f}%\")\n",
    "\n",
    "print(\"--\" * 20)\n",
    "print(\"--\" * 20)"
   ]
  }
 ],
 "metadata": {
  "kernelspec": {
   "display_name": "venv",
   "language": "python",
   "name": "python3"
  },
  "language_info": {
   "codemirror_mode": {
    "name": "ipython",
    "version": 3
   },
   "file_extension": ".py",
   "mimetype": "text/x-python",
   "name": "python",
   "nbconvert_exporter": "python",
   "pygments_lexer": "ipython3",
   "version": "3.13.3"
  }
 },
 "nbformat": 4,
 "nbformat_minor": 5
}
