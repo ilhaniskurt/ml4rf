{
 "cells": [
  {
   "cell_type": "code",
   "execution_count": null,
   "id": "ae703595",
   "metadata": {},
   "outputs": [],
   "source": [
    "import pandas as pd\n",
    "import torch\n",
    "import torch.nn as nn\n",
    "\n",
    "from helpers.base.loaders import prepare_data_for_pytorch\n",
    "from helpers.base.trainers import ChainedPredictor\n",
    "from helpers.spliters import create_frequency_based_split"
   ]
  },
  {
   "cell_type": "markdown",
   "id": "dd3b1ea9",
   "metadata": {},
   "source": [
    "### Configuration\n"
   ]
  },
  {
   "cell_type": "code",
   "execution_count": 2,
   "id": "02a82eaa",
   "metadata": {},
   "outputs": [],
   "source": [
    "ANALYSIS = False\n",
    "GRAPH_FOLDER = \"graphs\"\n",
    "MODELS = \"models\"\n",
    "PREDICTIONS = \"predictions\"\n",
    "SUBFOLDER = \"feature_extraction\""
   ]
  },
  {
   "cell_type": "markdown",
   "id": "53702137",
   "metadata": {},
   "source": [
    "### Loading\n"
   ]
  },
  {
   "cell_type": "code",
   "execution_count": 3,
   "id": "90fdbf8e",
   "metadata": {},
   "outputs": [],
   "source": [
    "df = pd.read_csv(\"dataset.csv\")\n",
    "target_cols = [\"gm\", \"Cmu\", \"Cpi\", (\"Zout_real\", \"Zin_real\"), (\"Zout_imag\", \"Zin_imag\")]\n",
    "flat_targets = [\n",
    "    t for group in target_cols for t in (group if isinstance(group, tuple) else [group])\n",
    "]\n",
    "nan_heavy_cols = [\"MAG\", \"MSG\"]\n",
    "exclude_columns = (\n",
    "    flat_targets\n",
    "    + nan_heavy_cols\n",
    "    + [\n",
    "        \"TIMEDATE\",\n",
    "        \"OPERATOR\",\n",
    "        \"REMARKS\",\n",
    "        \"TECHNO\",\n",
    "        \"LOT\",\n",
    "        \"WAFER\",\n",
    "        \"CHIP\",\n",
    "        \"MODULE\",\n",
    "        \"DEV_NAME\",\n",
    "        \"S(1,1)_real\",\n",
    "        \"S(1,1)_imag\",\n",
    "        \"S(1,2)_real\",\n",
    "        \"S(1,2)_imag\",\n",
    "        \"S(2,1)_real\",\n",
    "        \"S(2,1)_imag\",\n",
    "        \"S(2,2)_real\",\n",
    "        \"S(2,2)_imag\",\n",
    "        \"S_deemb(1,1)_real\",\n",
    "        \"S_deemb(1,1)_imag\",\n",
    "        \"S_deemb(1,2)_real\",\n",
    "        \"S_deemb(1,2)_imag\",\n",
    "        \"S_deemb(2,1)_real\",\n",
    "        \"S_deemb(2,1)_imag\",\n",
    "        \"S_deemb(2,2)_real\",\n",
    "        \"S_deemb(2,2)_imag\",\n",
    "    ]\n",
    ")\n",
    "\n",
    "all_cols = df.columns.tolist()\n",
    "X_cols = [\n",
    "    col\n",
    "    for col in all_cols\n",
    "    if col not in exclude_columns and pd.api.types.is_numeric_dtype(df[col])\n",
    "]\n",
    "\n",
    "X = df[X_cols]\n",
    "Y = df[flat_targets]"
   ]
  },
  {
   "cell_type": "markdown",
   "id": "93d15f2d",
   "metadata": {},
   "source": [
    "### Preprocessing\n"
   ]
  },
  {
   "cell_type": "code",
   "execution_count": 4,
   "id": "d4fb615f",
   "metadata": {},
   "outputs": [
    {
     "name": "stdout",
     "output_type": "stream",
     "text": [
      "Train set: 161650 samples (82.43%)\n",
      "Test set: 34450 samples (17.57%)\n"
     ]
    }
   ],
   "source": [
    "train_mask, test_mask = create_frequency_based_split(df)\n",
    "X_train, Y_train = X.loc[train_mask], Y.loc[train_mask]\n",
    "X_test, Y_test = X.loc[test_mask], Y.loc[test_mask]\n",
    "\n",
    "Y_train = Y_train.loc[X_train.index]\n",
    "Y_test = Y_test.loc[X_test.index]"
   ]
  },
  {
   "cell_type": "code",
   "execution_count": 5,
   "id": "58175a9c",
   "metadata": {},
   "outputs": [],
   "source": [
    "X_train_tensor, Y_train_tensor, X_test_tensor, Y_test_tensor, _, _ = (\n",
    "    prepare_data_for_pytorch(\n",
    "        X_train, Y_train, X_test, Y_test, batch_size=256, scale_y=False\n",
    "    )\n",
    ")"
   ]
  },
  {
   "cell_type": "code",
   "execution_count": 6,
   "id": "5101a040",
   "metadata": {},
   "outputs": [],
   "source": [
    "freq_idx = [i for i, col in enumerate(X_cols) if \"freq\" in col.lower()]"
   ]
  },
  {
   "cell_type": "markdown",
   "id": "3165df5f",
   "metadata": {},
   "source": [
    "### Training\n"
   ]
  },
  {
   "cell_type": "code",
   "execution_count": null,
   "id": "bb6b4732",
   "metadata": {},
   "outputs": [],
   "source": [
    "from helpers.old.trainers import Config\n",
    "\n",
    "device = torch.device(\"cuda\" if torch.cuda.is_available() else \"cpu\")\n",
    "\n",
    "params: Config = {\n",
    "    \"hidden_sizes\": [64, 128, 256],\n",
    "    \"dropout_rate\": 0.2,\n",
    "    \"learning_rate\": 1e-3,\n",
    "    \"activation\": \"gelu\",\n",
    "    \"epochs\": 150,\n",
    "    \"patience\": 30,\n",
    "    \"lr_scheduler_type\": \"reduce_on_plateau\",\n",
    "}"
   ]
  },
  {
   "cell_type": "code",
   "execution_count": 8,
   "id": "063750c8",
   "metadata": {},
   "outputs": [
    {
     "name": "stdout",
     "output_type": "stream",
     "text": [
      "\n",
      "🔁 Training gm (1/5)\n"
     ]
    },
    {
     "name": "stderr",
     "output_type": "stream",
     "text": [
      "Training Epochs (gm):  27%|██▋       | 41/150 [01:32<04:07,  2.27s/it, Epoch=41, Val Loss=51565063823163392.000000, Best=32623626687610880.000000, LR=1e-7]  \n"
     ]
    },
    {
     "name": "stdout",
     "output_type": "stream",
     "text": [
      "Early stopping triggered.\n",
      "R2: [-8.485693e+18], MAE: [4242275.], RMSE: [2.270798e+08]\n",
      "\n",
      "🔁 Training Cmu (2/5)\n"
     ]
    },
    {
     "name": "stderr",
     "output_type": "stream",
     "text": [
      "Training Epochs (Cmu):  27%|██▋       | 40/150 [01:28<04:04,  2.22s/it, Epoch=40, Val Loss=41044592971218944.000000, Best=34474390372483072.000000, LR=1e-7]  \n"
     ]
    },
    {
     "name": "stdout",
     "output_type": "stream",
     "text": [
      "Early stopping triggered.\n",
      "R2: [-2.0772713e+38], MAE: [3850533.8], RMSE: [2.025917e+08]\n",
      "\n",
      "🔁 Training Cpi (3/5)\n"
     ]
    },
    {
     "name": "stderr",
     "output_type": "stream",
     "text": [
      "Training Epochs (Cpi):  23%|██▎       | 34/150 [01:15<04:18,  2.23s/it, Epoch=34, Val Loss=32327892419477504.000000, Best=11776658591711232.000000, LR=1e-7]  \n",
      "/home/w01f/ml4rf/env/lib/python3.12/site-packages/sklearn/metrics/_regression.py:940: RuntimeWarning: overflow encountered in divide\n",
      "  numerator[valid_score] / denominator[valid_score]\n"
     ]
    },
    {
     "name": "stdout",
     "output_type": "stream",
     "text": [
      "Early stopping triggered.\n",
      "R2: [-inf], MAE: [4373561.], RMSE: [1.7984856e+08]\n",
      "\n",
      "🔁 Training Zout_real+Zin_real (4/5)\n"
     ]
    },
    {
     "name": "stderr",
     "output_type": "stream",
     "text": [
      "Training Epochs (Zout_real+Zin_real):  30%|███       | 45/150 [01:40<03:55,  2.24s/it, Epoch=45, Val Loss=10443631739535360.000000, Best=4021752615141376.000000, LR=1e-7]  \n"
     ]
    },
    {
     "name": "stdout",
     "output_type": "stream",
     "text": [
      "Early stopping triggered.\n",
      "R2: [-1.7138561e+10 -8.5431690e+09], MAE: [1681328.1   436098.66], RMSE: [1.4283098e+08 2.2053322e+07]\n",
      "\n",
      "🔁 Training Zout_imag+Zin_imag (5/5)\n"
     ]
    },
    {
     "name": "stderr",
     "output_type": "stream",
     "text": [
      "Training Epochs (Zout_imag+Zin_imag):  73%|███████▎  | 109/150 [04:00<01:30,  2.21s/it, Epoch=109, Val Loss=33542213992448.000000, Best=28029508124672.000000, LR=1e-8]      "
     ]
    },
    {
     "name": "stdout",
     "output_type": "stream",
     "text": [
      "Early stopping triggered.\n",
      "R2: [  -949638.8 -45852996. ], MAE: [ 48111.45 114969.52], RMSE: [2018072.4 7937821. ]\n",
      "\n",
      "✅ Chained training complete.\n"
     ]
    },
    {
     "name": "stderr",
     "output_type": "stream",
     "text": [
      "\n"
     ]
    }
   ],
   "source": [
    "chainer = ChainedPredictor(\n",
    "    targets=target_cols,\n",
    "    freq_idx=freq_idx,\n",
    "    hidden_sizes=[64, 128, 256],\n",
    "    dropout_rate=0.2,\n",
    "    activation=\"silu\",\n",
    "    device=\"cuda\",\n",
    ")\n",
    "\n",
    "criterion = nn.MSELoss()\n",
    "\n",
    "chainer.train_chain(\n",
    "    X_train_tensor,\n",
    "    Y_train_tensor,\n",
    "    X_test_tensor,\n",
    "    Y_test_tensor,\n",
    "    criterion,\n",
    "    device,\n",
    "    learning_rate=params[\"learning_rate\"],\n",
    "    epochs=params[\"epochs\"],\n",
    "    patience=params[\"patience\"],\n",
    "    scheduler_str=params[\"lr_scheduler_type\"],\n",
    ")"
   ]
  }
 ],
 "metadata": {
  "kernelspec": {
   "display_name": "env",
   "language": "python",
   "name": "python3"
  },
  "language_info": {
   "codemirror_mode": {
    "name": "ipython",
    "version": 3
   },
   "file_extension": ".py",
   "mimetype": "text/x-python",
   "name": "python",
   "nbconvert_exporter": "python",
   "pygments_lexer": "ipython3",
   "version": "3.12.3"
  }
 },
 "nbformat": 4,
 "nbformat_minor": 5
}
