{
 "cells": [
  {
   "cell_type": "code",
   "execution_count": 1,
   "id": "5a981b85",
   "metadata": {},
   "outputs": [],
   "source": [
    "from enum import Enum\n",
    "from pathlib import Path\n",
    "from typing import TypedDict\n",
    "\n",
    "import numpy as np\n",
    "import pandas as pd\n",
    "import torch\n",
    "import torch.nn as nn\n",
    "import torch.optim as optim\n",
    "\n",
    "from helpers.evals import evaluate_component_model\n",
    "from helpers.features import process_dataset\n",
    "from helpers.loaders import prepare_data_for_extrapolation\n",
    "from helpers.loss import huber_logcosh_loss\n",
    "from helpers.models import ComponentModel\n",
    "from helpers.trainers import train_component_model"
   ]
  },
  {
   "cell_type": "markdown",
   "id": "99a0b98b",
   "metadata": {},
   "source": [
    "### Config\n"
   ]
  },
  {
   "cell_type": "code",
   "execution_count": 2,
   "id": "d01e9d2d",
   "metadata": {},
   "outputs": [],
   "source": [
    "ANALYSIS = False\n",
    "VERBOSE = True\n",
    "\n",
    "DATASET_FILE_PATH = \"dataset.csv\"\n",
    "\n",
    "GRAPH_FOLDER = \"graphs\"\n",
    "MODELS = \"models\"\n",
    "PREDICTIONS = \"predictions\"\n",
    "SUBFOLDER = \"baseline\""
   ]
  },
  {
   "cell_type": "markdown",
   "id": "d9d24ae6",
   "metadata": {},
   "source": [
    "### Data\n"
   ]
  },
  {
   "cell_type": "code",
   "execution_count": 3,
   "id": "0144c29e",
   "metadata": {},
   "outputs": [
    {
     "name": "stdout",
     "output_type": "stream",
     "text": [
      "Found 74 unique frequency values from 0.10 GHz to 65.00 GHz\n",
      "Training on 49 unique frequencies from 0.10 GHz to 40.00 GHz\n",
      "Training set: 103439 samples\n",
      "Testing on 25 unique frequencies: [41. 42. 43. 44. 45. 46. 47. 48. 49. 50. 51. 52. 53. 54. 55. 56. 57. 58.\n",
      " 59. 60. 61. 62. 63. 64. 65.] GHz\n",
      "Test set: 52775 samples\n",
      "Identified 19 frequency-related features and 13 other features\n"
     ]
    }
   ],
   "source": [
    "df = pd.read_csv(DATASET_FILE_PATH)\n",
    "\n",
    "(\n",
    "    X_train,\n",
    "    Y_train,\n",
    "    X_test,\n",
    "    Y_test,\n",
    "    voltage_scaler,\n",
    "    freq_scaler,\n",
    "    freq_idx,\n",
    "    other_idx,\n",
    ") = process_dataset(df, split_mode=\"extrapolation\")"
   ]
  },
  {
   "cell_type": "code",
   "execution_count": 4,
   "id": "8a64ce4b",
   "metadata": {},
   "outputs": [
    {
     "name": "stdout",
     "output_type": "stream",
     "text": [
      "S21 real training range: -39.844800 to 0.557864\n",
      "S21 imag training range: -2.177070 to 19.843800\n"
     ]
    }
   ],
   "source": [
    "s21_real_train = Y_train[\"S_deemb(2,1)_real\"].values\n",
    "s21_imag_train = Y_train[\"S_deemb(2,1)_imag\"].values\n",
    "\n",
    "print(\n",
    "    f\"S21 real training range: {s21_real_train.min():.6f} to {s21_real_train.max():.6f}\"  # type: ignore\n",
    ")\n",
    "print(\n",
    "    f\"S21 imag training range: {s21_imag_train.min():.6f} to {s21_imag_train.max():.6f}\"  # type: ignore\n",
    ")"
   ]
  },
  {
   "cell_type": "code",
   "execution_count": 5,
   "id": "c4b797c5",
   "metadata": {},
   "outputs": [
    {
     "name": "stdout",
     "output_type": "stream",
     "text": [
      "Using high-frequency training data (>31.0 GHz) for stabilization\n",
      "High-frequency S21 means: real=-0.232408, imag=1.771155\n",
      "Setting component-specific bounds:\n",
      "  Real: [-9.855051, 1.816362]\n",
      "  Imaginary: [-2.254964, 9.799980]\n"
     ]
    }
   ],
   "source": [
    "X_train_s21 = X_train.copy()\n",
    "X_train_s21[\"S21_real\"] = s21_real_train\n",
    "X_train_s21[\"S21_imag\"] = s21_imag_train\n",
    "\n",
    "high_freq_threshold = np.percentile(X_train_s21[\"freq\"], 80)\n",
    "high_freq_data = X_train_s21[X_train_s21[\"freq\"] >= high_freq_threshold]\n",
    "\n",
    "print(\n",
    "    f\"Using high-frequency training data (>{high_freq_threshold / 1e9:.1f} GHz) for stabilization\"\n",
    ")\n",
    "\n",
    "high_freq_real_mean = high_freq_data[\"S21_real\"].mean()\n",
    "high_freq_imag_mean = high_freq_data[\"S21_imag\"].mean()\n",
    "\n",
    "print(\n",
    "    f\"High-frequency S21 means: real={high_freq_real_mean:.6f}, imag={high_freq_imag_mean:.6f}\"\n",
    ")\n",
    "\n",
    "# Calculate different bounds for real and imaginary parts\n",
    "# For real part - tighter bounds due to problems with this component\n",
    "real_p10 = np.percentile(s21_real_train, 10)  # type: ignore\n",
    "real_p90 = np.percentile(s21_real_train, 90)  # type: ignore\n",
    "real_range = real_p90 - real_p10\n",
    "real_min = real_p10 - 0.2 * real_range  # Tighter bound for real\n",
    "real_max = real_p90 + 0.2 * real_range\n",
    "\n",
    "# For imaginary part - more relaxed bounds since it's behaving better\n",
    "imag_p05 = np.percentile(s21_imag_train, 5)  # type: ignore\n",
    "imag_p95 = np.percentile(s21_imag_train, 95)  # type: ignore\n",
    "imag_range = imag_p95 - imag_p05\n",
    "imag_min = imag_p05 - 0.3 * imag_range  # More relaxed bound\n",
    "imag_max = imag_p95 + 0.3 * imag_range\n",
    "\n",
    "print(\"Setting component-specific bounds:\")\n",
    "print(f\"  Real: [{real_min:.6f}, {real_max:.6f}]\")\n",
    "print(f\"  Imaginary: [{imag_min:.6f}, {imag_max:.6f}]\")\n"
   ]
  },
  {
   "cell_type": "markdown",
   "id": "6295171f",
   "metadata": {},
   "source": [
    "### Training\n"
   ]
  },
  {
   "cell_type": "code",
   "execution_count": 6,
   "id": "20aa2093",
   "metadata": {},
   "outputs": [],
   "source": [
    "model_dir = Path(MODELS) / SUBFOLDER\n",
    "device = torch.device(\"cuda\" if torch.cuda.is_available() else \"cpu\")"
   ]
  },
  {
   "cell_type": "code",
   "execution_count": 7,
   "id": "b15e8291",
   "metadata": {},
   "outputs": [],
   "source": [
    "class SchedulerTypes(str, Enum):\n",
    "    REDUCE_ON_PLATEAU = \"reduce_on_plateau\"\n",
    "    STEP = \"step\"\n",
    "    COSINE_ANNEALING = \"cosine_annealing\"\n",
    "    ONE_CYCLE = \"one_cycle\"\n",
    "    EXPONENTIAL = \"exponential\"\n",
    "    NONE = \"none\"\n",
    "\n",
    "\n",
    "class ActivationTypes(str, Enum):\n",
    "    GELU = \"gelu\"\n",
    "    RELU = \"relu\"\n",
    "    SILU = \"silu\"\n",
    "\n",
    "\n",
    "class Hyperparameters(TypedDict):\n",
    "    hidden_sizes: list[int]\n",
    "    freq_hidden_sizes: list[int] | None\n",
    "    other_hidden_sizes: list[int] | None\n",
    "    dropout_rate: float\n",
    "    learning_rate: float\n",
    "    activation: ActivationTypes\n",
    "    lr_scheduler_type: SchedulerTypes\n",
    "    weight_decay: float\n",
    "    epochs: int\n",
    "    patience: int\n",
    "    batch_size: int\n",
    "\n",
    "\n",
    "class ModelDict(TypedDict):\n",
    "    model_name: str\n",
    "    label: str\n",
    "    hparams: Hyperparameters\n"
   ]
  },
  {
   "cell_type": "code",
   "execution_count": 8,
   "id": "41438a7d",
   "metadata": {},
   "outputs": [],
   "source": [
    "s11_params: Hyperparameters = {\n",
    "    \"hidden_sizes\": [256, 512, 1024, 512],\n",
    "    \"freq_hidden_sizes\": None,\n",
    "    \"other_hidden_sizes\": None,\n",
    "    \"learning_rate\": 0.001,\n",
    "    \"dropout_rate\": 0.1,\n",
    "    \"weight_decay\": 1e-5,\n",
    "    \"batch_size\": 1024,\n",
    "    \"epochs\": 200,\n",
    "    \"patience\": 30,\n",
    "    \"lr_scheduler_type\": SchedulerTypes.REDUCE_ON_PLATEAU,\n",
    "    \"activation\": ActivationTypes.GELU,\n",
    "}\n",
    "s12_params: Hyperparameters = {\n",
    "    \"hidden_sizes\": [384, 768, 1536, 768, 384],\n",
    "    \"freq_hidden_sizes\": None,\n",
    "    \"other_hidden_sizes\": None,\n",
    "    \"learning_rate\": 0.002,\n",
    "    \"dropout_rate\": 0.1,\n",
    "    \"weight_decay\": 1e-5,\n",
    "    \"batch_size\": 1024,\n",
    "    \"epochs\": 300,\n",
    "    \"patience\": 40,\n",
    "    \"lr_scheduler_type\": SchedulerTypes.REDUCE_ON_PLATEAU,\n",
    "    \"activation\": ActivationTypes.GELU,\n",
    "}\n",
    "\n",
    "s21_real_params: Hyperparameters = {\n",
    "    \"hidden_sizes\": [2048, 2048, 2048, 1024, 512, 256],\n",
    "    \"freq_hidden_sizes\": [512, 1024, 2048, 1024],\n",
    "    \"other_hidden_sizes\": [1024, 2048, 2048, 1024],\n",
    "    \"learning_rate\": 0.001,\n",
    "    \"dropout_rate\": 0.3,\n",
    "    \"weight_decay\": 1e-5 * 2,\n",
    "    \"batch_size\": 1024,\n",
    "    \"epochs\": 350,\n",
    "    \"patience\": 40,\n",
    "    \"lr_scheduler_type\": SchedulerTypes.COSINE_ANNEALING,\n",
    "    \"activation\": ActivationTypes.GELU,\n",
    "}\n",
    "\n",
    "s21_imag_params: Hyperparameters = {\n",
    "    \"hidden_sizes\": [2048, 2048, 2048, 2048, 1024, 512],\n",
    "    \"freq_hidden_sizes\": [512, 1024, 2048, 1024],\n",
    "    \"other_hidden_sizes\": [1024, 2048, 2048, 1024],\n",
    "    \"learning_rate\": 0.001,\n",
    "    \"dropout_rate\": 0.1,\n",
    "    \"weight_decay\": 1e-5 * 2,\n",
    "    \"batch_size\": 1024,\n",
    "    \"epochs\": 350,\n",
    "    \"patience\": 40,\n",
    "    \"lr_scheduler_type\": SchedulerTypes.ONE_CYCLE,\n",
    "    \"activation\": ActivationTypes.GELU,\n",
    "}\n",
    "\n",
    "s22_params: Hyperparameters = {\n",
    "    \"hidden_sizes\": [1024, 1536, 2048, 1536, 1024],\n",
    "    \"freq_hidden_sizes\": None,\n",
    "    \"other_hidden_sizes\": None,\n",
    "    \"learning_rate\": 0.002,\n",
    "    \"dropout_rate\": 0.1,\n",
    "    \"weight_decay\": 1e-5,\n",
    "    \"batch_size\": 1024,\n",
    "    \"epochs\": 200,\n",
    "    \"patience\": 30,\n",
    "    \"lr_scheduler_type\": SchedulerTypes.REDUCE_ON_PLATEAU,\n",
    "    \"activation\": ActivationTypes.GELU,\n",
    "}"
   ]
  },
  {
   "cell_type": "code",
   "execution_count": 9,
   "id": "a38a2156",
   "metadata": {},
   "outputs": [],
   "source": [
    "models_to_train: list[ModelDict] = [\n",
    "    {\n",
    "        \"model_name\": \"S11_real\",\n",
    "        \"label\": \"S_deemb(1,1)_real\",\n",
    "        \"hparams\": s11_params,\n",
    "    },\n",
    "    {\n",
    "        \"model_name\": \"S11_imag\",\n",
    "        \"label\": \"S_deemb(1,1)_imag\",\n",
    "        \"hparams\": s11_params,\n",
    "    },\n",
    "    {\n",
    "        \"model_name\": \"S12_real\",\n",
    "        \"label\": \"S_deemb(1,2)_real\",\n",
    "        \"hparams\": s12_params,\n",
    "    },\n",
    "    {\n",
    "        \"model_name\": \"S12_imag\",\n",
    "        \"label\": \"S_deemb(1,2)_imag\",\n",
    "        \"hparams\": s12_params,\n",
    "    },\n",
    "    {\n",
    "        \"model_name\": \"S21_real\",\n",
    "        \"label\": \"S_deemb(2,1)_real\",\n",
    "        \"hparams\": s21_real_params,\n",
    "    },\n",
    "    {\n",
    "        \"model_name\": \"S21_imag\",\n",
    "        \"label\": \"S_deemb(2,1)_imag\",\n",
    "        \"hparams\": s21_imag_params,\n",
    "    },\n",
    "    {\n",
    "        \"model_name\": \"S22_real\",\n",
    "        \"label\": \"S_deemb(2,2)_real\",\n",
    "        \"hparams\": s22_params,\n",
    "    },\n",
    "    {\n",
    "        \"model_name\": \"S22_imag\",\n",
    "        \"label\": \"S_deemb(2,2)_imag\",\n",
    "        \"hparams\": s22_params,\n",
    "    },\n",
    "]"
   ]
  },
  {
   "cell_type": "code",
   "execution_count": 10,
   "id": "f00681fb",
   "metadata": {},
   "outputs": [
    {
     "name": "stdout",
     "output_type": "stream",
     "text": [
      "Training S11_real model\n"
     ]
    },
    {
     "name": "stderr",
     "output_type": "stream",
     "text": [
      "Training Epochs:  18%|█▊        | 36/200 [00:23<01:47,  1.53it/s, Epoch=36, Val Loss=0.023775, Best=0.015972, LR=6.25e-5] \n"
     ]
    },
    {
     "name": "stdout",
     "output_type": "stream",
     "text": [
      "Early stopping triggered.\n",
      "Training S11_imag model\n"
     ]
    },
    {
     "name": "stderr",
     "output_type": "stream",
     "text": [
      "Training Epochs:  18%|█▊        | 36/200 [00:22<01:42,  1.60it/s, Epoch=36, Val Loss=0.028711, Best=0.018593, LR=6.25e-5] \n"
     ]
    },
    {
     "name": "stdout",
     "output_type": "stream",
     "text": [
      "Early stopping triggered.\n",
      "Training S12_real model\n"
     ]
    },
    {
     "name": "stderr",
     "output_type": "stream",
     "text": [
      "Training Epochs:  15%|█▌        | 46/300 [00:30<02:48,  1.51it/s, Epoch=46, Val Loss=0.132343, Best=0.084533, LR=3.13e-5] \n"
     ]
    },
    {
     "name": "stdout",
     "output_type": "stream",
     "text": [
      "Early stopping triggered.\n",
      "Training S12_imag model\n"
     ]
    },
    {
     "name": "stderr",
     "output_type": "stream",
     "text": [
      "Training Epochs:  21%|██        | 63/300 [00:43<02:42,  1.46it/s, Epoch=63, Val Loss=0.063551, Best=0.048017, LR=1.56e-5] \n"
     ]
    },
    {
     "name": "stdout",
     "output_type": "stream",
     "text": [
      "Early stopping triggered.\n",
      "Training S21_real model\n"
     ]
    },
    {
     "name": "stderr",
     "output_type": "stream",
     "text": [
      "Training Epochs:  28%|██▊       | 99/350 [02:28<06:17,  1.50s/it, Epoch=99, Val Loss=0.028103, Best=0.007482, LR=0.001]\n"
     ]
    },
    {
     "name": "stdout",
     "output_type": "stream",
     "text": [
      "Early stopping triggered.\n",
      "Training S21_imag model\n"
     ]
    },
    {
     "name": "stderr",
     "output_type": "stream",
     "text": [
      "Training Epochs:  30%|███       | 105/350 [02:17<05:20,  1.31s/it, Epoch=105, Val Loss=0.007031, Best=0.003586, LR=0.01]   \n"
     ]
    },
    {
     "name": "stdout",
     "output_type": "stream",
     "text": [
      "Early stopping triggered.\n",
      "Training S22_real model\n"
     ]
    },
    {
     "name": "stderr",
     "output_type": "stream",
     "text": [
      "Training Epochs:  16%|█▋        | 33/200 [00:25<02:07,  1.31it/s, Epoch=33, Val Loss=0.028101, Best=0.021849, LR=0.000125]\n"
     ]
    },
    {
     "name": "stdout",
     "output_type": "stream",
     "text": [
      "Early stopping triggered.\n",
      "Training S22_imag model\n"
     ]
    },
    {
     "name": "stderr",
     "output_type": "stream",
     "text": [
      "Training Epochs:  34%|███▍      | 69/200 [00:52<01:40,  1.31it/s, Epoch=69, Val Loss=0.049927, Best=0.031266, LR=1.56e-5] "
     ]
    },
    {
     "name": "stdout",
     "output_type": "stream",
     "text": [
      "Early stopping triggered.\n"
     ]
    },
    {
     "name": "stderr",
     "output_type": "stream",
     "text": [
      "\n"
     ]
    }
   ],
   "source": [
    "results = {}\n",
    "predictions = {}\n",
    "\n",
    "for model_to_train in models_to_train:\n",
    "    label = model_to_train[\"label\"]\n",
    "    y_train_pair = Y_train[[label]]\n",
    "    y_test_pair = Y_test[[label]]\n",
    "\n",
    "    if model_to_train[\"model_name\"] == \"S21_real\":\n",
    "        model_to_train[\"hparams\"][\"dropout_rate\"] = 0.3\n",
    "        model_to_train[\"hparams\"][\"lr_scheduler_type\"] = SchedulerTypes.COSINE_ANNEALING\n",
    "\n",
    "    print(f\"Training {model_to_train['model_name']} model\")\n",
    "\n",
    "    (\n",
    "        X_train_tensor,\n",
    "        Y_train_tensor,\n",
    "        X_test_tensor,\n",
    "        Y_test_tensor,\n",
    "        loader,\n",
    "        x_scaler,\n",
    "        y_scaler,\n",
    "    ) = prepare_data_for_extrapolation(\n",
    "        X_train,\n",
    "        y_train_pair,\n",
    "        X_test,\n",
    "        y_test_pair,\n",
    "        batch_size=model_to_train[\"hparams\"][\"batch_size\"],\n",
    "    )\n",
    "\n",
    "    model = ComponentModel(\n",
    "        model_to_train[\"hparams\"][\"hidden_sizes\"],\n",
    "        model_to_train[\"hparams\"][\"dropout_rate\"],\n",
    "        freq_idx,\n",
    "        other_idx,\n",
    "        model_to_train[\"hparams\"][\"activation\"],\n",
    "        model_to_train[\"model_name\"],\n",
    "        freq_hidden_sizes=model_to_train[\"hparams\"][\"freq_hidden_sizes\"],\n",
    "        other_hidden_sizes=model_to_train[\"hparams\"][\"other_hidden_sizes\"],\n",
    "    )\n",
    "\n",
    "    optimizer = optim.AdamW(\n",
    "        model.parameters(),\n",
    "        lr=model_to_train[\"hparams\"][\"learning_rate\"],\n",
    "        weight_decay=model_to_train[\"hparams\"][\"weight_decay\"],\n",
    "    )\n",
    "    if model_to_train[\"model_name\"] == \"S21_real\":\n",
    "        criterion = nn.SmoothL1Loss(beta=0.05)\n",
    "    else:\n",
    "        criterion = huber_logcosh_loss\n",
    "\n",
    "    trained_model = train_component_model(\n",
    "        model,\n",
    "        model_to_train[\"model_name\"],\n",
    "        loader,\n",
    "        X_test_tensor,\n",
    "        Y_test_tensor,\n",
    "        criterion,\n",
    "        optimizer,\n",
    "        device,\n",
    "        model_to_train[\"hparams\"][\"epochs\"],\n",
    "        model_to_train[\"hparams\"][\"patience\"],\n",
    "        model_to_train[\"hparams\"][\"lr_scheduler_type\"],\n",
    "    )\n",
    "\n",
    "    metrics, model_predictions = evaluate_component_model(\n",
    "        trained_model,\n",
    "        X_test_tensor,\n",
    "        Y_test,\n",
    "        [label],\n",
    "        model_to_train[\"model_name\"],\n",
    "        real_min,\n",
    "        real_max,\n",
    "        imag_min,\n",
    "        imag_max,\n",
    "        device,\n",
    "        y_scaler,\n",
    "    )\n",
    "    results[model_to_train[\"model_name\"]] = metrics\n",
    "    predictions[model_to_train[\"model_name\"]] = model_predictions"
   ]
  },
  {
   "cell_type": "markdown",
   "id": "147a29d3",
   "metadata": {},
   "source": [
    "### Results\n"
   ]
  },
  {
   "cell_type": "code",
   "execution_count": null,
   "id": "fe4b093b",
   "metadata": {},
   "outputs": [
    {
     "ename": "ValueError",
     "evalue": "too many values to unpack (expected 2)",
     "output_type": "error",
     "traceback": [
      "\u001b[31m---------------------------------------------------------------------------\u001b[39m",
      "\u001b[31mValueError\u001b[39m                                Traceback (most recent call last)",
      "\u001b[36mCell\u001b[39m\u001b[36m \u001b[39m\u001b[32mIn[11]\u001b[39m\u001b[32m, line 4\u001b[39m\n\u001b[32m      1\u001b[39m \u001b[38;5;28;01mfor\u001b[39;00m model_to_train \u001b[38;5;129;01min\u001b[39;00m models_to_train:\n\u001b[32m      2\u001b[39m     model_name = model_to_train[\u001b[33m\"\u001b[39m\u001b[33mmodel_name\u001b[39m\u001b[33m\"\u001b[39m]\n\u001b[32m----> \u001b[39m\u001b[32m4\u001b[39m     metrics, predictions = results[model_name]\n\u001b[32m      6\u001b[39m     \u001b[38;5;28mprint\u001b[39m(\u001b[33m\"\u001b[39m\u001b[33m--\u001b[39m\u001b[33m\"\u001b[39m * \u001b[32m20\u001b[39m)\n\u001b[32m      7\u001b[39m     \u001b[38;5;28mprint\u001b[39m(\u001b[33m\"\u001b[39m\u001b[33m--\u001b[39m\u001b[33m\"\u001b[39m * \u001b[32m20\u001b[39m)\n",
      "\u001b[31mValueError\u001b[39m: too many values to unpack (expected 2)"
     ]
    }
   ],
   "source": [
    "for model_to_train in models_to_train:\n",
    "    model_name = model_to_train[\"model_name\"]\n",
    "\n",
    "    metrics = results[model_name]\n",
    "\n",
    "    print(\"--\" * 20)\n",
    "    print(\"--\" * 20)\n",
    "    print(f\"Performance metrics for {model_name}:\")\n",
    "    print(f\"\\tRMSE: {metrics['rmse']:.6f}\")\n",
    "    print(f\"\\tR²: {metrics['r2']:.6f}\")\n",
    "    print(f\"\\tMAE: {metrics['mae']:.6f}\")\n",
    "    if \"smape\" in metrics:\n",
    "        print(f\"\\tSMAPE: {metrics['smape']:.2f}%\")\n",
    "    else:\n",
    "        print(f\"\\tMAPE: {metrics['mape']:.2f}%\")\n",
    "\n",
    "print(\"--\" * 20)\n",
    "print(\"--\" * 20)"
   ]
  }
 ],
 "metadata": {
  "kernelspec": {
   "display_name": "venv",
   "language": "python",
   "name": "python3"
  },
  "language_info": {
   "codemirror_mode": {
    "name": "ipython",
    "version": 3
   },
   "file_extension": ".py",
   "mimetype": "text/x-python",
   "name": "python",
   "nbconvert_exporter": "python",
   "pygments_lexer": "ipython3",
   "version": "3.13.3"
  }
 },
 "nbformat": 4,
 "nbformat_minor": 5
}
