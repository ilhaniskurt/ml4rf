{
 "cells": [
  {
   "cell_type": "code",
   "execution_count": 1,
   "id": "95546e7f",
   "metadata": {},
   "outputs": [],
   "source": [
    "from pathlib import Path\n",
    "\n",
    "import pandas as pd\n",
    "import torch\n",
    "import torch.nn as nn\n",
    "import torch.optim as optim\n",
    "\n",
    "from helpers.evals import evaluate_model\n",
    "from helpers.loaders import prepare_data_for_pytorch\n",
    "from helpers.models import FrequencyAwareNetwork\n",
    "from helpers.spliters import create_frequency_based_split\n",
    "from helpers.trainers import train_model"
   ]
  },
  {
   "cell_type": "markdown",
   "id": "71dfd5de",
   "metadata": {},
   "source": [
    "### Config\n"
   ]
  },
  {
   "cell_type": "code",
   "execution_count": 2,
   "id": "84cdd1b7",
   "metadata": {},
   "outputs": [],
   "source": [
    "ANALYSIS = False\n",
    "VERBOSE = True\n",
    "\n",
    "DATASET_FILE_PATH = \"dataset.csv\"\n",
    "\n",
    "GRAPH_FOLDER = \"graphs\"\n",
    "MODELS = \"models\"\n",
    "PREDICTIONS = \"predictions\"\n",
    "SUBFOLDER = \"baseline\""
   ]
  },
  {
   "cell_type": "markdown",
   "id": "09b872cd",
   "metadata": {},
   "source": [
    "### Load\n"
   ]
  },
  {
   "cell_type": "code",
   "execution_count": 3,
   "id": "06b215b7",
   "metadata": {},
   "outputs": [],
   "source": [
    "df = pd.read_csv(DATASET_FILE_PATH)\n",
    "\n",
    "feature_columns = [\"freq\", \"vb\", \"vc\", \"DEV_GEOM_L\", \"NUM_OF_TRANS_RF\"]\n",
    "label_columns = [\n",
    "    \"S_deemb(1,1)_real\",\n",
    "    \"S_deemb(1,1)_imag\",\n",
    "    \"S_deemb(1,2)_real\",\n",
    "    \"S_deemb(1,2)_imag\",\n",
    "    \"S_deemb(2,1)_real\",\n",
    "    \"S_deemb(2,1)_imag\",\n",
    "    \"S_deemb(2,2)_real\",\n",
    "    \"S_deemb(2,2)_imag\",\n",
    "]\n",
    "\n",
    "df = df.dropna(subset=feature_columns + label_columns)\n",
    "\n",
    "X = df[feature_columns].copy()\n",
    "Y = df[label_columns].copy()"
   ]
  },
  {
   "cell_type": "markdown",
   "id": "bbabdd3d",
   "metadata": {},
   "source": [
    "### Preprocessing\n"
   ]
  },
  {
   "cell_type": "code",
   "execution_count": 4,
   "id": "ae07d183",
   "metadata": {},
   "outputs": [
    {
     "name": "stdout",
     "output_type": "stream",
     "text": [
      "Train set: 128771 samples (82.43%)\n",
      "Test set: 27443 samples (17.57%)\n"
     ]
    }
   ],
   "source": [
    "X = pd.get_dummies(X, columns=[\"DEV_GEOM_L\", \"NUM_OF_TRANS_RF\"], dtype=int)\n",
    "\n",
    "train_mask, test_mask = create_frequency_based_split(df, test_size=0.2, random_state=42)\n",
    "\n",
    "X_train, X_test = X[train_mask], X[test_mask]\n",
    "Y_train, Y_test = Y[train_mask], Y[test_mask]"
   ]
  },
  {
   "cell_type": "markdown",
   "id": "ae91ca82",
   "metadata": {},
   "source": [
    "### Training\n"
   ]
  },
  {
   "cell_type": "code",
   "execution_count": 5,
   "id": "03b7f9ab",
   "metadata": {},
   "outputs": [],
   "source": [
    "best_hparams = {\n",
    "    \"hidden_sizes\": [384, 768, 1536],\n",
    "    \"dropout_rate\": 0.1,\n",
    "    \"learning_rate\": 0.002,\n",
    "    \"batch_size\": 2048,\n",
    "    \"epochs\": 300,\n",
    "    \"patience\": 40,\n",
    "    \"activation\": \"gelu\",\n",
    "}\n",
    "\n",
    "model_dir = Path(MODELS) / SUBFOLDER\n",
    "device = torch.device(\"cuda\" if torch.cuda.is_available() else \"cpu\")\n",
    "freq_idx = [X_train.columns.get_loc(\"freq\")]\n",
    "other_idx = [i for i in range(X_train.shape[1]) if i not in freq_idx]\n",
    "\n",
    "results = {}"
   ]
  },
  {
   "cell_type": "code",
   "execution_count": 6,
   "id": "4c72d7a3",
   "metadata": {},
   "outputs": [
    {
     "name": "stdout",
     "output_type": "stream",
     "text": [
      "Training model for S_deemb(1,1)_real + S_deemb(1,1)_imag...\n"
     ]
    },
    {
     "name": "stderr",
     "output_type": "stream",
     "text": [
      "Training Epochs:  14%|█▍        | 43/300 [00:11<01:07,  3.82it/s, Epoch=43, Val Loss=0.365820, Best=0.365820]                                  \n"
     ]
    },
    {
     "name": "stdout",
     "output_type": "stream",
     "text": [
      "Early stopping triggered.\n",
      "Training model for S_deemb(1,2)_real + S_deemb(1,2)_imag...\n"
     ]
    },
    {
     "name": "stderr",
     "output_type": "stream",
     "text": [
      "Training Epochs:  14%|█▍        | 43/300 [00:11<01:09,  3.72it/s, Epoch=43, Val Loss=0.026853, Best=0.026852]                                  \n"
     ]
    },
    {
     "name": "stdout",
     "output_type": "stream",
     "text": [
      "Early stopping triggered.\n",
      "Training model for S_deemb(2,1)_real + S_deemb(2,1)_imag...\n"
     ]
    },
    {
     "name": "stderr",
     "output_type": "stream",
     "text": [
      "Training Epochs:  53%|█████▎    | 159/300 [00:43<00:38,  3.64it/s, Epoch=159, Val Loss=4399377.500000, Best=3542721.750000]                  \n"
     ]
    },
    {
     "name": "stdout",
     "output_type": "stream",
     "text": [
      "Early stopping triggered.\n",
      "Training model for S_deemb(2,2)_real + S_deemb(2,2)_imag...\n"
     ]
    },
    {
     "name": "stderr",
     "output_type": "stream",
     "text": [
      "Training Epochs: 100%|██████████| 300/300 [01:21<00:00,  3.67it/s, Epoch=300, Val Loss=0.285855, Best=0.285843]                                \n"
     ]
    }
   ],
   "source": [
    "# Train one model for each label pair\n",
    "\n",
    "s_parameter_groups = [\n",
    "    (\"S_deemb(1,1)_real\", \"S_deemb(1,1)_imag\"),\n",
    "    (\"S_deemb(1,2)_real\", \"S_deemb(1,2)_imag\"),\n",
    "    (\"S_deemb(2,1)_real\", \"S_deemb(2,1)_imag\"),\n",
    "    (\"S_deemb(2,2)_real\", \"S_deemb(2,2)_imag\"),\n",
    "]\n",
    "\n",
    "for real_label, imag_label in s_parameter_groups:\n",
    "    label_pair = [real_label, imag_label]\n",
    "    print(f\"Training model for {real_label} + {imag_label}...\")\n",
    "    y_train_pair = Y_train[label_pair]\n",
    "    y_test_pair = Y_test[label_pair]\n",
    "\n",
    "    X_train_tensor, Y_train_tensor, X_test_tensor, Y_test_tensor, loader, _ = (\n",
    "        prepare_data_for_pytorch(\n",
    "            X_train,\n",
    "            y_train_pair,\n",
    "            X_test,\n",
    "            y_test_pair,\n",
    "            batch_size=best_hparams[\"batch_size\"],\n",
    "            scale_y=False,\n",
    "        )\n",
    "    )\n",
    "\n",
    "    model = FrequencyAwareNetwork(\n",
    "        freq_idx,\n",
    "        other_idx,\n",
    "        best_hparams[\"hidden_sizes\"],\n",
    "        best_hparams[\"dropout_rate\"],\n",
    "        best_hparams[\"activation\"],\n",
    "    )\n",
    "    optimizer = optim.Adam(model.parameters(), lr=best_hparams[\"learning_rate\"])\n",
    "    criterion = nn.MSELoss()\n",
    "\n",
    "    save_path = f\"{model_dir}/{real_label}_fan_model.pth\"\n",
    "    trained_model = train_model(\n",
    "        model,\n",
    "        loader,\n",
    "        X_test_tensor,\n",
    "        Y_test_tensor,\n",
    "        criterion,\n",
    "        optimizer,\n",
    "        device,\n",
    "        epochs=best_hparams[\"epochs\"],\n",
    "        patience=best_hparams[\"patience\"],\n",
    "        save_path=save_path,\n",
    "        config=best_hparams,\n",
    "        verbose=VERBOSE,\n",
    "    )\n",
    "    metrics = evaluate_model(\n",
    "        trained_model, X_test_tensor.to(device), Y_test_tensor.to(device)\n",
    "    )\n",
    "    results[f\"{real_label}+{imag_label}\"] = metrics"
   ]
  },
  {
   "cell_type": "markdown",
   "id": "825c2dae",
   "metadata": {},
   "source": [
    "### Results\n"
   ]
  },
  {
   "cell_type": "code",
   "execution_count": 7,
   "id": "e17fb12c",
   "metadata": {},
   "outputs": [
    {
     "name": "stdout",
     "output_type": "stream",
     "text": [
      "Performance for S_deemb(1,1)_real+S_deemb(1,1)_imag:\n",
      "  R²:   -0.1354, -3.8580\n",
      "  MAE:  0.5693, 0.5078\n",
      "  RMSE: 0.6379, 0.5698\n",
      "Performance for S_deemb(1,2)_real+S_deemb(1,2)_imag:\n",
      "  R²:   -1.6733, -1.5233\n",
      "  MAE:  0.1502, 0.1033\n",
      "  RMSE: 0.1898, 0.1329\n",
      "Performance for S_deemb(2,1)_real+S_deemb(2,1)_imag:\n",
      "  R²:   -20248800.0000, -12142028.0000\n",
      "  MAE:  13994.5996, 6495.5195\n",
      "  RMSE: 16565.6797, 7690.3262\n",
      "Performance for S_deemb(2,2)_real+S_deemb(2,2)_imag:\n",
      "  R²:   -1.2772, -3.3991\n",
      "  MAE:  0.5989, 0.3253\n",
      "  RMSE: 0.6594, 0.3700\n"
     ]
    }
   ],
   "source": [
    "for label_pair, metrics in results.items():\n",
    "    print(f\"Performance for {label_pair}:\")\n",
    "    print(f\"  R²:   {metrics['R2'][0]:.4f}, {metrics['R2'][1]:.4f}\")\n",
    "    print(f\"  MAE:  {metrics['MAE'][0]:.4f}, {metrics['MAE'][1]:.4f}\")\n",
    "    print(f\"  RMSE: {metrics['RMSE'][0]:.4f}, {metrics['RMSE'][1]:.4f}\")\n"
   ]
  }
 ],
 "metadata": {
  "kernelspec": {
   "display_name": "env",
   "language": "python",
   "name": "python3"
  },
  "language_info": {
   "codemirror_mode": {
    "name": "ipython",
    "version": 3
   },
   "file_extension": ".py",
   "mimetype": "text/x-python",
   "name": "python",
   "nbconvert_exporter": "python",
   "pygments_lexer": "ipython3",
   "version": "3.12.3"
  }
 },
 "nbformat": 4,
 "nbformat_minor": 5
}
