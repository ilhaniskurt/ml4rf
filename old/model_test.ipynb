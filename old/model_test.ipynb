{
 "cells": [
  {
   "cell_type": "code",
   "execution_count": null,
   "id": "6dcbc409",
   "metadata": {},
   "outputs": [],
   "source": [
    "import time\n",
    "from pathlib import Path\n",
    "\n",
    "import numpy as np\n",
    "import pandas as pd\n",
    "import torch\n",
    "import torch.nn as nn\n",
    "import torch.optim as optim\n",
    "from sklearn.metrics import mean_absolute_error, mean_squared_error, r2_score\n",
    "from sklearn.preprocessing import MinMaxScaler, StandardScaler\n",
    "from torch.utils.data import DataLoader, TensorDataset\n",
    "from tqdm import tqdm\n",
    "\n",
    "from helpers.split import create_frequency_based_split"
   ]
  },
  {
   "cell_type": "markdown",
   "id": "7ad4e736",
   "metadata": {},
   "source": [
    "### Configuration\n"
   ]
  },
  {
   "cell_type": "code",
   "execution_count": null,
   "id": "a6ddd72d",
   "metadata": {},
   "outputs": [],
   "source": [
    "ANALYSIS = False\n",
    "\n",
    "DATASET_FILE_PATH = \"dataset.csv\"\n",
    "\n",
    "GRAPH_FOLDER = \"graphs\"\n",
    "MODELS = \"models\"\n",
    "PREDICTIONS = \"predictions\"\n",
    "SUBFOLDER = \"baseline\"\n",
    "\n",
    "VERBOSE = True\n",
    "EPOCHS = 100\n",
    "\n",
    "device = torch.device(\"cuda\" if torch.cuda.is_available() else \"cpu\")"
   ]
  },
  {
   "cell_type": "markdown",
   "id": "b1f281d8",
   "metadata": {},
   "source": [
    "### Loading and Preprocessing\n"
   ]
  },
  {
   "cell_type": "code",
   "execution_count": null,
   "id": "fb985030",
   "metadata": {},
   "outputs": [],
   "source": [
    "# Load the dataset\n",
    "df = pd.read_csv(DATASET_FILE_PATH)"
   ]
  },
  {
   "cell_type": "code",
   "execution_count": null,
   "id": "de099f28",
   "metadata": {},
   "outputs": [],
   "source": [
    "# Selected features and targets\n",
    "features = [\"freq\", \"vb\", \"vc\", \"DEV_GEOM_L\", \"NUM_OF_TRANS_RF\"]\n",
    "targets = [\n",
    "    \"S_deemb(1,1)_real\",\n",
    "    \"S_deemb(1,1)_imag\",\n",
    "    \"S_deemb(1,2)_real\",\n",
    "    \"S_deemb(1,2)_imag\",\n",
    "    \"S_deemb(2,1)_real\",\n",
    "    \"S_deemb(2,1)_imag\",\n",
    "    \"S_deemb(2,2)_real\",\n",
    "    \"S_deemb(2,2)_imag\",\n",
    "]"
   ]
  },
  {
   "cell_type": "code",
   "execution_count": null,
   "id": "13f09765",
   "metadata": {},
   "outputs": [],
   "source": [
    "if ANALYSIS:\n",
    "    print(\"Checking for null values in features:\")\n",
    "    feature_nulls = df[features].isnull().sum()\n",
    "    print(feature_nulls[feature_nulls > 0])  # Only show features with nulls\n",
    "\n",
    "    print(\"\\nChecking for null values in labels:\")\n",
    "    label_nulls = df[targets].isnull().sum()\n",
    "    print(label_nulls)"
   ]
  },
  {
   "cell_type": "code",
   "execution_count": null,
   "id": "3e09a1a3",
   "metadata": {},
   "outputs": [],
   "source": [
    "# Filter rows with any null values in features or labels\n",
    "df_clean = df.dropna(subset=features + targets)\n",
    "\n",
    "if ANALYSIS:\n",
    "    print(f\"\\nOriginal dataset shape: {df.shape}\")\n",
    "    print(f\"Cleaned dataset shape: {df_clean.shape}\")\n",
    "    print(f\"Removed {df.shape[0] - df_clean.shape[0]} rows with null values\")"
   ]
  },
  {
   "cell_type": "code",
   "execution_count": null,
   "id": "fcb17da5",
   "metadata": {},
   "outputs": [],
   "source": [
    "# Apply improved frequency-based split\n",
    "train_mask, test_mask = create_frequency_based_split(\n",
    "    df_clean, test_size=0.2, random_state=42\n",
    ")\n",
    "\n",
    "\n",
    "# Create separate dataframes for features and labels\n",
    "X = df_clean[features].copy()\n",
    "Y = df_clean[targets].copy()\n",
    "\n",
    "# Encode categorical features\n",
    "X[\"DEV_GEOM_L\"] = X[\"DEV_GEOM_L\"].astype(\"category\").cat.codes\n",
    "X[\"NUM_OF_TRANS_RF\"] = X[\"NUM_OF_TRANS_RF\"].astype(\"category\").cat.codes\n",
    "\n",
    "# Scale freq, vb, vc\n",
    "scaler = MinMaxScaler()\n",
    "X[[\"freq\", \"vb\", \"vc\"]] = scaler.fit_transform(X[[\"freq\", \"vb\", \"vc\"]])\n",
    "\n",
    "if ANALYSIS:\n",
    "    print(f\"\\nFeature dataset shape: {X.shape}\")\n",
    "    print(f\"S-parameter labels shape: {Y.shape}\")\n",
    "\n",
    "    print(\"\\nFeature statistics (first 5 columns):\")\n",
    "    print(X.iloc[:, :5].describe())\n",
    "\n",
    "    print(\"\\nS-parameter statistics (first 4 columns):\")\n",
    "    print(Y.iloc[:, :4].describe())\n",
    "\n",
    "    print(\"\\nFeature and label separation complete!\")"
   ]
  },
  {
   "cell_type": "code",
   "execution_count": null,
   "id": "b695fbc7",
   "metadata": {},
   "outputs": [],
   "source": [
    "# Split dataset\n",
    "Y = df_clean[targets]\n",
    "X_train, X_test = X[train_mask], X[test_mask]\n",
    "Y_train, Y_test = Y[train_mask], Y[test_mask]"
   ]
  },
  {
   "cell_type": "code",
   "execution_count": null,
   "id": "56dfaae3",
   "metadata": {},
   "outputs": [],
   "source": [
    "# Optional Y-scaler for targets (for improved convergence)\n",
    "y_scaler = StandardScaler()\n",
    "Y_train_scaled = y_scaler.fit_transform(Y_train)\n",
    "Y_test_scaled = y_scaler.transform(Y_test)"
   ]
  },
  {
   "cell_type": "markdown",
   "id": "87790f17",
   "metadata": {},
   "source": [
    "### Model\n"
   ]
  },
  {
   "cell_type": "code",
   "execution_count": null,
   "id": "a69cdc71",
   "metadata": {},
   "outputs": [],
   "source": [
    "hyperparams = {\n",
    "    \"hidden_sizes\": [384, 768, 1536],\n",
    "    \"dropout_rate\": 0.1,\n",
    "    \"activation\": \"gelu\",\n",
    "    \"lr\": 0.002,\n",
    "    \"epochs\": 300,\n",
    "    \"patience\": 40,\n",
    "    \"batch_size\": 512,\n",
    "    \"lr_scheduler_type\": \"reduce_on_plateau\",\n",
    "}"
   ]
  },
  {
   "cell_type": "code",
   "execution_count": null,
   "id": "3b425600",
   "metadata": {},
   "outputs": [],
   "source": [
    "class FrequencyAwareNetwork(nn.Module):\n",
    "    def __init__(\n",
    "        self,\n",
    "        freq_features,\n",
    "        other_features,\n",
    "        hidden_sizes,\n",
    "        dropout_rate=0.2,\n",
    "        activation=\"gelu\",\n",
    "    ):\n",
    "        super().__init__()\n",
    "        if activation == \"silu\":\n",
    "            act_fn = nn.SiLU()\n",
    "        elif activation == \"relu\":\n",
    "            act_fn = nn.ReLU()\n",
    "        elif activation == \"gelu\":\n",
    "            act_fn = nn.GELU()\n",
    "        else:\n",
    "            raise ValueError(f\"Unsupported activation function: {activation}\")\n",
    "\n",
    "        self.freq_net = nn.Sequential(nn.Linear(freq_features, hidden_sizes[0]), act_fn)\n",
    "\n",
    "        self.other_net = nn.Sequential(\n",
    "            nn.Linear(other_features, hidden_sizes[0]), act_fn\n",
    "        )\n",
    "\n",
    "        self.shared = nn.Sequential(\n",
    "            nn.Linear(2 * hidden_sizes[0], hidden_sizes[1]),\n",
    "            act_fn,\n",
    "            nn.Linear(hidden_sizes[1], hidden_sizes[2]),\n",
    "            act_fn,\n",
    "            nn.Dropout(dropout_rate),\n",
    "            nn.Linear(hidden_sizes[2], 8),\n",
    "        )\n",
    "\n",
    "        self.freq_indices = None\n",
    "        self.other_indices = None\n",
    "\n",
    "    def set_feature_indices(self, freq_indices, other_indices):\n",
    "        self.freq_indices = freq_indices\n",
    "        self.other_indices = other_indices\n",
    "\n",
    "    def forward(self, x):\n",
    "        x_freq = x[:, self.freq_indices]\n",
    "        x_other = x[:, self.other_indices]\n",
    "        f_out = self.freq_net(x_freq)\n",
    "        o_out = self.other_net(x_other)\n",
    "        x_cat = torch.cat((f_out, o_out), dim=1)\n",
    "        return self.shared(x_cat)"
   ]
  },
  {
   "cell_type": "code",
   "execution_count": null,
   "id": "bce23da1",
   "metadata": {},
   "outputs": [],
   "source": [
    "# Split feature indices\n",
    "freq_indices = [X.columns.get_loc(\"freq\")]\n",
    "other_indices = [i for i in range(X.shape[1]) if i not in freq_indices]\n",
    "\n",
    "# Convert to tensors\n",
    "X_train_tensor = torch.tensor(X_train.values, dtype=torch.float32)\n",
    "X_test_tensor = torch.tensor(X_test.values, dtype=torch.float32)\n",
    "Y_train_tensor = torch.tensor(Y_train_scaled, dtype=torch.float32)\n",
    "Y_test_tensor = torch.tensor(Y_test_scaled, dtype=torch.float32)\n",
    "\n",
    "train_loader = DataLoader(\n",
    "    TensorDataset(X_train_tensor, Y_train_tensor), batch_size=512, shuffle=True\n",
    ")"
   ]
  },
  {
   "cell_type": "markdown",
   "id": "259f41ef",
   "metadata": {},
   "source": [
    "### Training\n"
   ]
  },
  {
   "cell_type": "code",
   "execution_count": null,
   "id": "7d6e57da",
   "metadata": {},
   "outputs": [],
   "source": [
    "# Initialize model\n",
    "model = FrequencyAwareNetwork(\n",
    "    freq_features=len(freq_indices),\n",
    "    other_features=len(other_indices),\n",
    "    hidden_sizes=hyperparams[\"hidden_sizes\"],\n",
    "    dropout_rate=hyperparams[\"dropout_rate\"],\n",
    "    activation=hyperparams[\"activation\"],\n",
    ").to(device)\n",
    "model.set_feature_indices(freq_indices, other_indices)\n",
    "\n",
    "criterion = nn.MSELoss()\n",
    "optimizer = optim.Adam(model.parameters(), lr=hyperparams[\"lr\"])\n",
    "\n",
    "if hyperparams[\"lr_scheduler_type\"] == \"reduce_on_plateau\":\n",
    "    scheduler = torch.optim.lr_scheduler.ReduceLROnPlateau(\n",
    "        optimizer, mode=\"min\", factor=0.85, patience=5, min_lr=5e-7\n",
    "    )\n",
    "elif hyperparams[\"lr_scheduler_type\"] == \"cosine_annealing\":\n",
    "    scheduler = torch.optim.lr_scheduler.CosineAnnealingLR(\n",
    "        optimizer, T_max=EPOCHS, eta_min=1e-6\n",
    "    )\n",
    "elif hyperparams[\"lr_scheduler_type\"] == \"one_cycle\":\n",
    "    scheduler = torch.optim.lr_scheduler.OneCycleLR(\n",
    "        optimizer,\n",
    "        max_lr=optimizer.param_groups[0][\"lr\"],\n",
    "        steps_per_epoch=len(train_loader),\n",
    "        epochs=EPOCHS,\n",
    "    )\n",
    "else:\n",
    "    scheduler = None"
   ]
  },
  {
   "cell_type": "code",
   "execution_count": null,
   "id": "6a7e7a3d",
   "metadata": {},
   "outputs": [
    {
     "name": "stderr",
     "output_type": "stream",
     "text": [
      "                                                                              \r"
     ]
    },
    {
     "name": "stdout",
     "output_type": "stream",
     "text": [
      "Epoch 1: Avg Loss = 0.051038"
     ]
    },
    {
     "name": "stderr",
     "output_type": "stream",
     "text": [
      "                                                                              \r"
     ]
    },
    {
     "name": "stdout",
     "output_type": "stream",
     "text": [
      "Epoch 2: Avg Loss = 0.051200"
     ]
    },
    {
     "name": "stderr",
     "output_type": "stream",
     "text": [
      "                                                                              \r"
     ]
    },
    {
     "name": "stdout",
     "output_type": "stream",
     "text": [
      "Epoch 3: Avg Loss = 0.050686"
     ]
    },
    {
     "name": "stderr",
     "output_type": "stream",
     "text": [
      "                                                                              \r"
     ]
    },
    {
     "name": "stdout",
     "output_type": "stream",
     "text": [
      "Epoch 4: Avg Loss = 0.051306"
     ]
    },
    {
     "name": "stderr",
     "output_type": "stream",
     "text": [
      "                                                                              \r"
     ]
    },
    {
     "name": "stdout",
     "output_type": "stream",
     "text": [
      "Epoch 5: Avg Loss = 0.049064"
     ]
    },
    {
     "name": "stderr",
     "output_type": "stream",
     "text": [
      "                                                                              \r"
     ]
    },
    {
     "name": "stdout",
     "output_type": "stream",
     "text": [
      "Epoch 6: Avg Loss = 0.051155"
     ]
    },
    {
     "name": "stderr",
     "output_type": "stream",
     "text": [
      "                                                                              \r"
     ]
    },
    {
     "name": "stdout",
     "output_type": "stream",
     "text": [
      "Epoch 7: Avg Loss = 0.049329"
     ]
    },
    {
     "name": "stderr",
     "output_type": "stream",
     "text": [
      "                                                                              \r"
     ]
    },
    {
     "name": "stdout",
     "output_type": "stream",
     "text": [
      "Epoch 8: Avg Loss = 0.049317"
     ]
    },
    {
     "name": "stderr",
     "output_type": "stream",
     "text": [
      "                                                                              \r"
     ]
    },
    {
     "name": "stdout",
     "output_type": "stream",
     "text": [
      "Epoch 9: Avg Loss = 0.048813"
     ]
    },
    {
     "name": "stderr",
     "output_type": "stream",
     "text": [
      "Epoch [10/300]:  31%|███       | 77/252 [00:00<00:00, 251.72it/s, loss=0.0473]Exception ignored in: <bound method IPythonKernel._clean_thread_parent_frames of <ipykernel.ipkernel.IPythonKernel object at 0x7faca6389a90>>\n",
      "Traceback (most recent call last):\n",
      "  File \"/home/w01f/ml4rf/env/lib/python3.12/site-packages/ipykernel/ipkernel.py\", line 775, in _clean_thread_parent_frames\n",
      "    def _clean_thread_parent_frames(\n",
      "\n",
      "KeyboardInterrupt: \n",
      "                                                                               \r"
     ]
    },
    {
     "name": "stdout",
     "output_type": "stream",
     "text": [
      "Epoch 10: Avg Loss = 0.049101"
     ]
    },
    {
     "name": "stderr",
     "output_type": "stream",
     "text": [
      "                                                                               \r"
     ]
    },
    {
     "name": "stdout",
     "output_type": "stream",
     "text": [
      "Epoch 11: Avg Loss = 0.049042"
     ]
    },
    {
     "name": "stderr",
     "output_type": "stream",
     "text": [
      "                                                                               \r"
     ]
    },
    {
     "name": "stdout",
     "output_type": "stream",
     "text": [
      "Epoch 12: Avg Loss = 0.049999"
     ]
    },
    {
     "name": "stderr",
     "output_type": "stream",
     "text": [
      "                                                                               \r"
     ]
    },
    {
     "name": "stdout",
     "output_type": "stream",
     "text": [
      "Epoch 13: Avg Loss = 0.050266"
     ]
    },
    {
     "name": "stderr",
     "output_type": "stream",
     "text": [
      "                                                                               \r"
     ]
    },
    {
     "name": "stdout",
     "output_type": "stream",
     "text": [
      "Epoch 14: Avg Loss = 0.047869"
     ]
    },
    {
     "name": "stderr",
     "output_type": "stream",
     "text": [
      "                                                                               \r"
     ]
    },
    {
     "name": "stdout",
     "output_type": "stream",
     "text": [
      "Epoch 15: Avg Loss = 0.048905"
     ]
    },
    {
     "name": "stderr",
     "output_type": "stream",
     "text": [
      "                                                                               \r"
     ]
    },
    {
     "name": "stdout",
     "output_type": "stream",
     "text": [
      "Epoch 16: Avg Loss = 0.047888"
     ]
    },
    {
     "name": "stderr",
     "output_type": "stream",
     "text": [
      "                                                                               \r"
     ]
    },
    {
     "name": "stdout",
     "output_type": "stream",
     "text": [
      "Epoch 17: Avg Loss = 0.049683"
     ]
    },
    {
     "name": "stderr",
     "output_type": "stream",
     "text": [
      "                                                                               \r"
     ]
    },
    {
     "name": "stdout",
     "output_type": "stream",
     "text": [
      "Epoch 18: Avg Loss = 0.048878"
     ]
    },
    {
     "name": "stderr",
     "output_type": "stream",
     "text": [
      "                                                                               \r"
     ]
    },
    {
     "name": "stdout",
     "output_type": "stream",
     "text": [
      "Epoch 19: Avg Loss = 0.048019"
     ]
    },
    {
     "name": "stderr",
     "output_type": "stream",
     "text": [
      "                                                                               \r"
     ]
    },
    {
     "name": "stdout",
     "output_type": "stream",
     "text": [
      "Epoch 20: Avg Loss = 0.048153"
     ]
    },
    {
     "name": "stderr",
     "output_type": "stream",
     "text": [
      "Epoch [21/300]:  90%|█████████ | 227/252 [00:00<00:00, 278.51it/s, loss=0.0508]"
     ]
    }
   ],
   "source": [
    "# Training loop\n",
    "best_loss = float(\"inf\")\n",
    "best_model_state = None\n",
    "counter = 0\n",
    "start_time = time.time()\n",
    "\n",
    "for epoch in range(hyperparams[\"epochs\"]):\n",
    "    model.train()\n",
    "    total_loss = 0\n",
    "    loop = tqdm(\n",
    "        train_loader, desc=f\"Epoch [{epoch + 1}/{hyperparams['epochs']}]\", leave=False\n",
    "    )\n",
    "    for xb, yb in loop:\n",
    "        xb, yb = xb.to(device), yb.to(device)\n",
    "        optimizer.zero_grad()\n",
    "        preds = model(xb)\n",
    "        loss = criterion(preds, yb)\n",
    "        loss.backward()\n",
    "        optimizer.step()\n",
    "        total_loss += loss.item()\n",
    "        loop.set_postfix(loss=loss.item())\n",
    "\n",
    "    avg_loss = total_loss / len(train_loader)\n",
    "    print(f\"Epoch {epoch + 1}: Avg Loss = {avg_loss:.6f}\", end=\"\")\n",
    "\n",
    "    if scheduler:\n",
    "        scheduler.step(avg_loss)\n",
    "\n",
    "    if avg_loss < best_loss:\n",
    "        best_loss = avg_loss\n",
    "        best_model_state = model.state_dict()\n",
    "        counter = 0\n",
    "    else:\n",
    "        counter += 1\n",
    "        if counter >= hyperparams[\"patience\"]:\n",
    "            print(f\"Early stopping at epoch {epoch + 1}\")\n",
    "            break\n",
    "\n",
    "print(\n",
    "    f\"Training complete in {time.time() - start_time:.2f} seconds. Best loss: {best_loss:.6f}\"\n",
    ")"
   ]
  },
  {
   "cell_type": "code",
   "execution_count": null,
   "id": "d4254710",
   "metadata": {},
   "outputs": [],
   "source": [
    "# Directory to save models\n",
    "model_dir = Path(MODELS) / SUBFOLDER\n",
    "model_dir.mkdir(parents=True, exist_ok=True)\n",
    "model_path = model_dir / \"baseline_model.pt\"\n",
    "\n",
    "torch.save(model.state_dict(), model_path)"
   ]
  },
  {
   "cell_type": "markdown",
   "id": "9836c122",
   "metadata": {},
   "source": [
    "### Evaluation\n"
   ]
  },
  {
   "cell_type": "code",
   "execution_count": null,
   "id": "04f28afb",
   "metadata": {},
   "outputs": [],
   "source": [
    "# Evaluation\n",
    "with torch.no_grad():\n",
    "    preds_scaled = model(X_test_tensor.to(device)).cpu().numpy()\n",
    "    preds = y_scaler.inverse_transform(preds_scaled)\n",
    "\n",
    "r2 = r2_score(Y_test, preds, multioutput=\"raw_values\")\n",
    "rmse = np.sqrt(mean_squared_error(Y_test, preds, multioutput=\"raw_values\"))\n",
    "mae = mean_absolute_error(Y_test, preds, multioutput=\"raw_values\")\n",
    "\n",
    "for i, name in enumerate(targets):\n",
    "    print(f\"{name}: R²={r2[i]:.4f}, RMSE={rmse[i]:.4f}, MAE={mae[i]:.4f}\")"
   ]
  }
 ],
 "metadata": {
  "kernelspec": {
   "display_name": "env",
   "language": "python",
   "name": "python3"
  },
  "language_info": {
   "codemirror_mode": {
    "name": "ipython",
    "version": 3
   },
   "file_extension": ".py",
   "mimetype": "text/x-python",
   "name": "python",
   "nbconvert_exporter": "python",
   "pygments_lexer": "ipython3",
   "version": "3.12.3"
  }
 },
 "nbformat": 4,
 "nbformat_minor": 5
}
