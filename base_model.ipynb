{
 "cells": [
  {
   "cell_type": "code",
   "execution_count": null,
   "id": "95546e7f",
   "metadata": {},
   "outputs": [],
   "source": [
    "from pathlib import Path\n",
    "\n",
    "import pandas as pd\n",
    "import torch\n",
    "import torch.nn as nn\n",
    "import torch.optim as optim\n",
    "\n",
    "from helpers.base.loaders import prepare_data_for_pytorch\n",
    "from helpers.base.models import FrequencyAwareNetwork\n",
    "from helpers.base.trainers import train_model\n",
    "from helpers.evals import evaluate_model\n",
    "from helpers.features import process_dataset"
   ]
  },
  {
   "cell_type": "markdown",
   "id": "71dfd5de",
   "metadata": {},
   "source": [
    "### Config\n"
   ]
  },
  {
   "cell_type": "code",
   "execution_count": 2,
   "id": "84cdd1b7",
   "metadata": {},
   "outputs": [],
   "source": [
    "ANALYSIS = False\n",
    "VERBOSE = True\n",
    "\n",
    "DATASET_FILE_PATH = \"dataset.csv\"\n",
    "\n",
    "GRAPH_FOLDER = \"graphs\"\n",
    "MODELS = \"models\"\n",
    "PREDICTIONS = \"predictions\"\n",
    "SUBFOLDER = \"baseline\""
   ]
  },
  {
   "cell_type": "markdown",
   "id": "09b872cd",
   "metadata": {},
   "source": [
    "### Data\n"
   ]
  },
  {
   "cell_type": "code",
   "execution_count": 3,
   "id": "06b215b7",
   "metadata": {},
   "outputs": [],
   "source": [
    "df = pd.read_csv(DATASET_FILE_PATH)\n",
    "\n",
    "(\n",
    "    X_train,\n",
    "    Y_train,\n",
    "    X_test,\n",
    "    Y_test,\n",
    "    voltage_scaler,\n",
    "    freq_scaler,\n",
    ") = process_dataset(df, test_size=0.2, random_state=42)"
   ]
  },
  {
   "cell_type": "markdown",
   "id": "ae91ca82",
   "metadata": {},
   "source": [
    "### Training\n"
   ]
  },
  {
   "cell_type": "code",
   "execution_count": 4,
   "id": "03b7f9ab",
   "metadata": {},
   "outputs": [],
   "source": [
    "best_hparams = {\n",
    "    \"hidden_sizes\": [384, 768, 1536],\n",
    "    \"dropout_rate\": 0.1,\n",
    "    \"learning_rate\": 0.002,\n",
    "    \"batch_size\": 2048,\n",
    "    \"epochs\": 300,\n",
    "    \"patience\": 40,\n",
    "    \"activation\": \"gelu\",\n",
    "    \"lr_scheduler_type\": \"reduce_on_plateau\",\n",
    "}\n",
    "\n",
    "model_dir = Path(MODELS) / SUBFOLDER\n",
    "device = torch.device(\"cuda\" if torch.cuda.is_available() else \"cpu\")\n",
    "freq_idx = [X_train.columns.get_loc(\"freq\")]\n",
    "other_idx = [i for i in range(X_train.shape[1]) if i not in freq_idx]\n",
    "\n",
    "results = {}"
   ]
  },
  {
   "cell_type": "code",
   "execution_count": 5,
   "id": "4c72d7a3",
   "metadata": {},
   "outputs": [
    {
     "name": "stdout",
     "output_type": "stream",
     "text": [
      "Training model for S_deemb(1,1)_real + S_deemb(1,1)_imag...\n"
     ]
    },
    {
     "name": "stderr",
     "output_type": "stream",
     "text": [
      "Training Epochs:  16%|█▋        | 49/300 [00:13<01:10,  3.54it/s, Epoch=49, Val Loss=548414.625000, Best=86191.187500, LR=2e-9]                          \n"
     ]
    },
    {
     "name": "stdout",
     "output_type": "stream",
     "text": [
      "Early stopping triggered.\n",
      "Training model for S_deemb(1,2)_real + S_deemb(1,2)_imag...\n"
     ]
    },
    {
     "name": "stderr",
     "output_type": "stream",
     "text": [
      "Training Epochs:  18%|█▊        | 55/300 [00:15<01:06,  3.66it/s, Epoch=55, Val Loss=1.008730, Best=1.008719, LR=2e-9]                                 \n"
     ]
    },
    {
     "name": "stdout",
     "output_type": "stream",
     "text": [
      "Early stopping triggered.\n",
      "Training model for S_deemb(2,1)_real + S_deemb(2,1)_imag...\n"
     ]
    },
    {
     "name": "stderr",
     "output_type": "stream",
     "text": [
      "Training Epochs:  15%|█▍        | 44/300 [00:11<01:08,  3.72it/s, Epoch=44, Val Loss=0.886364, Best=0.886364, LR=2e-9]                                   \n"
     ]
    },
    {
     "name": "stdout",
     "output_type": "stream",
     "text": [
      "Early stopping triggered.\n",
      "Training model for S_deemb(2,2)_real + S_deemb(2,2)_imag...\n"
     ]
    },
    {
     "name": "stderr",
     "output_type": "stream",
     "text": [
      "Training Epochs:  25%|██▌       | 75/300 [00:20<01:01,  3.64it/s, Epoch=75, Val Loss=259623.890625, Best=44974.527344, LR=2e-9]                          "
     ]
    },
    {
     "name": "stdout",
     "output_type": "stream",
     "text": [
      "Early stopping triggered.\n"
     ]
    },
    {
     "name": "stderr",
     "output_type": "stream",
     "text": [
      "\n"
     ]
    }
   ],
   "source": [
    "# Train one model for each label pair\n",
    "\n",
    "s_parameter_groups = [\n",
    "    (\"S_deemb(1,1)_real\", \"S_deemb(1,1)_imag\"),\n",
    "    (\"S_deemb(1,2)_real\", \"S_deemb(1,2)_imag\"),\n",
    "    (\"S_deemb(2,1)_real\", \"S_deemb(2,1)_imag\"),\n",
    "    (\"S_deemb(2,2)_real\", \"S_deemb(2,2)_imag\"),\n",
    "]\n",
    "\n",
    "for real_label, imag_label in s_parameter_groups:\n",
    "    label_pair = [real_label, imag_label]\n",
    "    print(f\"Training model for {real_label} + {imag_label}...\")\n",
    "    y_train_pair = Y_train[label_pair]\n",
    "    y_test_pair = Y_test[label_pair]\n",
    "\n",
    "    X_train_tensor, Y_train_tensor, X_test_tensor, Y_test_tensor, loader, _ = (\n",
    "        prepare_data_for_pytorch(\n",
    "            X_train,\n",
    "            y_train_pair,\n",
    "            X_test,\n",
    "            y_test_pair,\n",
    "            batch_size=best_hparams[\"batch_size\"],\n",
    "            scale_y=True,\n",
    "        )\n",
    "    )\n",
    "\n",
    "    model = FrequencyAwareNetwork(\n",
    "        freq_idx,\n",
    "        other_idx,\n",
    "        best_hparams[\"hidden_sizes\"],\n",
    "        best_hparams[\"dropout_rate\"],\n",
    "        best_hparams[\"activation\"],\n",
    "    )\n",
    "    optimizer = optim.Adam(model.parameters(), lr=best_hparams[\"learning_rate\"])\n",
    "    criterion = nn.MSELoss()\n",
    "\n",
    "    # save_path = f\"{model_dir}/{real_label}_fan_model.pth\"\n",
    "    trained_model = train_model(\n",
    "        model,\n",
    "        loader,\n",
    "        X_test_tensor,\n",
    "        Y_test_tensor,\n",
    "        criterion,\n",
    "        optimizer,\n",
    "        device,\n",
    "        epochs=best_hparams[\"epochs\"],\n",
    "        patience=best_hparams[\"patience\"],\n",
    "        scheduler_str=best_hparams[\"lr_scheduler_type\"],\n",
    "    )\n",
    "    metrics = evaluate_model(\n",
    "        trained_model, X_test_tensor.to(device), Y_test_tensor.to(device)\n",
    "    )\n",
    "    results[f\"{real_label}+{imag_label}\"] = metrics"
   ]
  },
  {
   "cell_type": "markdown",
   "id": "825c2dae",
   "metadata": {},
   "source": [
    "### Results\n"
   ]
  },
  {
   "cell_type": "code",
   "execution_count": 6,
   "id": "e17fb12c",
   "metadata": {},
   "outputs": [
    {
     "name": "stdout",
     "output_type": "stream",
     "text": [
      "Performance for S_deemb(1,1)_real+S_deemb(1,1)_imag:\n",
      "  R²:   -779000.4375, -362534.6875\n",
      "  MAE:  736.9699, 492.5932\n",
      "  RMSE: 870.5200, 582.2600\n",
      "Performance for S_deemb(1,2)_real+S_deemb(1,2)_imag:\n",
      "  R²:   -0.0037, -0.0047\n",
      "  MAE:  0.7642, 0.8873\n",
      "  RMSE: 0.9826, 1.0257\n",
      "Performance for S_deemb(2,1)_real+S_deemb(2,1)_imag:\n",
      "  R²:   -0.0014, -0.0003\n",
      "  MAE:  0.5295, 0.7370\n",
      "  RMSE: 0.9060, 0.9756\n",
      "Performance for S_deemb(2,2)_real+S_deemb(2,2)_imag:\n",
      "  R²:   -483108.7812, -38308.0781\n",
      "  MAE:  589.2103, 156.4833\n",
      "  RMSE: 696.5065, 184.6271\n"
     ]
    }
   ],
   "source": [
    "for label_pair, metrics in results.items():\n",
    "    print(f\"Performance for {label_pair}:\")\n",
    "    print(f\"  R²:   {metrics['R2'][0]:.4f}, {metrics['R2'][1]:.4f}\")\n",
    "    print(f\"  MAE:  {metrics['MAE'][0]:.4f}, {metrics['MAE'][1]:.4f}\")\n",
    "    print(f\"  RMSE: {metrics['RMSE'][0]:.4f}, {metrics['RMSE'][1]:.4f}\")\n"
   ]
  }
 ],
 "metadata": {
  "kernelspec": {
   "display_name": "env",
   "language": "python",
   "name": "python3"
  },
  "language_info": {
   "codemirror_mode": {
    "name": "ipython",
    "version": 3
   },
   "file_extension": ".py",
   "mimetype": "text/x-python",
   "name": "python",
   "nbconvert_exporter": "python",
   "pygments_lexer": "ipython3",
   "version": "3.12.3"
  }
 },
 "nbformat": 4,
 "nbformat_minor": 5
}
