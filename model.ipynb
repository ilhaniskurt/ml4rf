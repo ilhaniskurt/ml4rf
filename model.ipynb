{
 "cells": [
  {
   "cell_type": "code",
   "execution_count": 1,
   "id": "95546e7f",
   "metadata": {},
   "outputs": [],
   "source": [
    "from pathlib import Path\n",
    "\n",
    "import pandas as pd\n",
    "import torch\n",
    "import torch.optim as optim\n",
    "\n",
    "from helpers.evals import evaluate_model\n",
    "from helpers.features import process_dataset\n",
    "from helpers.loaders import prepare_data_for_pytorch\n",
    "from helpers.loss import ScientificDerivedLoss\n",
    "from helpers.models import FrequencyAwareNetwork\n",
    "from helpers.trainers import train_model"
   ]
  },
  {
   "cell_type": "markdown",
   "id": "71dfd5de",
   "metadata": {},
   "source": [
    "### Config\n"
   ]
  },
  {
   "cell_type": "code",
   "execution_count": 2,
   "id": "84cdd1b7",
   "metadata": {},
   "outputs": [],
   "source": [
    "ANALYSIS = False\n",
    "VERBOSE = True\n",
    "\n",
    "DATASET_FILE_PATH = \"dataset.csv\"\n",
    "\n",
    "GRAPH_FOLDER = \"graphs\"\n",
    "MODELS = \"models\"\n",
    "PREDICTIONS = \"predictions\"\n",
    "SUBFOLDER = \"baseline\""
   ]
  },
  {
   "cell_type": "markdown",
   "id": "09b872cd",
   "metadata": {},
   "source": [
    "### Data\n"
   ]
  },
  {
   "cell_type": "code",
   "execution_count": 3,
   "id": "06b215b7",
   "metadata": {},
   "outputs": [],
   "source": [
    "df = pd.read_csv(DATASET_FILE_PATH)\n",
    "\n",
    "(\n",
    "    X_train,\n",
    "    Y_train,\n",
    "    X_test,\n",
    "    Y_test,\n",
    "    voltage_scaler,\n",
    "    freq_scaler,\n",
    ") = process_dataset(df, test_size=0.2, random_state=42)"
   ]
  },
  {
   "cell_type": "markdown",
   "id": "ae91ca82",
   "metadata": {},
   "source": [
    "### Training\n"
   ]
  },
  {
   "cell_type": "code",
   "execution_count": 4,
   "id": "03b7f9ab",
   "metadata": {},
   "outputs": [],
   "source": [
    "best_hparams = {\n",
    "    \"hidden_sizes\": [384, 768, 1536],\n",
    "    \"dropout_rate\": 0.1,\n",
    "    \"learning_rate\": 0.002,\n",
    "    \"batch_size\": 2048,\n",
    "    \"epochs\": 300,\n",
    "    \"patience\": 40,\n",
    "    \"activation\": \"gelu\",\n",
    "    \"lr_scheduler_type\": \"reduce_on_plateau\",\n",
    "}\n",
    "\n",
    "model_dir = Path(MODELS) / SUBFOLDER\n",
    "device = torch.device(\"cuda\" if torch.cuda.is_available() else \"cpu\")\n",
    "freq_idx = [X_train.columns.get_loc(\"freq\")]\n",
    "other_idx = [i for i in range(X_train.shape[1]) if i not in freq_idx]\n",
    "\n",
    "results = {}"
   ]
  },
  {
   "cell_type": "code",
   "execution_count": null,
   "id": "4c72d7a3",
   "metadata": {},
   "outputs": [
    {
     "name": "stderr",
     "output_type": "stream",
     "text": [
      "Training Epochs:  15%|█▌        | 46/300 [00:36<03:21,  1.26it/s, Epoch=46, Val Loss=28283070464.000000, Best=28283070464.000000, LR=2e-9]  "
     ]
    },
    {
     "name": "stdout",
     "output_type": "stream",
     "text": [
      "Early stopping triggered.\n"
     ]
    },
    {
     "name": "stderr",
     "output_type": "stream",
     "text": [
      "\n"
     ]
    }
   ],
   "source": [
    "# Define all 4 S-parameter output labels (real and imaginary parts)\n",
    "s_labels = [\n",
    "    \"S_deemb(1,1)_real\",\n",
    "    \"S_deemb(2,1)_real\",\n",
    "    \"S_deemb(1,2)_real\",\n",
    "    \"S_deemb(2,2)_real\",\n",
    "    \"S_deemb(1,1)_imag\",\n",
    "    \"S_deemb(2,1)_imag\",\n",
    "    \"S_deemb(1,2)_imag\",\n",
    "    \"S_deemb(2,2)_imag\",\n",
    "]\n",
    "\n",
    "# Extract target values for those S-parameters\n",
    "y_train_full = Y_train[s_labels]\n",
    "y_test_full = Y_test[s_labels]\n",
    "\n",
    "# Prepare training/test tensors and loader\n",
    "(\n",
    "    X_train_tensor,\n",
    "    Y_train_tensor,\n",
    "    X_test_tensor,\n",
    "    Y_test_tensor,\n",
    "    train_loader,\n",
    "    _,\n",
    "    freq_test_tensor,\n",
    ") = prepare_data_for_pytorch(\n",
    "    X_train,\n",
    "    y_train_full,\n",
    "    X_test,\n",
    "    y_test_full,\n",
    "    batch_size=best_hparams[\"batch_size\"],\n",
    "    scale_y=False,  # no scaling for physics-based outputs\n",
    ")\n",
    "\n",
    "# Build the model with 8-output structure\n",
    "model = FrequencyAwareNetwork(\n",
    "    freq_indices=freq_idx,\n",
    "    other_indices=other_idx,\n",
    "    hidden_sizes=best_hparams[\"hidden_sizes\"],\n",
    "    dropout_rate=best_hparams[\"dropout_rate\"],\n",
    "    activation=best_hparams[\"activation\"],\n",
    ")\n",
    "\n",
    "# Use ScientificDerivedLoss (works on S → derived physics)\n",
    "criterion = ScientificDerivedLoss()\n",
    "optimizer = optim.Adam(model.parameters(), lr=best_hparams[\"learning_rate\"])\n",
    "\n",
    "# Train model\n",
    "trained_model = train_model(\n",
    "    model,\n",
    "    train_loader,\n",
    "    X_test_tensor,\n",
    "    Y_test_tensor,\n",
    "    criterion,\n",
    "    optimizer,\n",
    "    device,\n",
    "    epochs=best_hparams[\"epochs\"],\n",
    "    patience=best_hparams[\"patience\"],\n",
    "    scheduler_str=best_hparams[\"lr_scheduler_type\"],\n",
    "    freq_test=freq_test_tensor,  # pass frequency for validation\n",
    ")\n",
    "\n",
    "# Evaluate accuracy directly on predicted S-parameters\n",
    "metrics = evaluate_model(\n",
    "    trained_model, X_test_tensor.to(device), Y_test_tensor.to(device)\n",
    ")"
   ]
  },
  {
   "cell_type": "markdown",
   "id": "825c2dae",
   "metadata": {},
   "source": [
    "### Results\n"
   ]
  },
  {
   "cell_type": "code",
   "execution_count": null,
   "id": "e17fb12c",
   "metadata": {},
   "outputs": [
    {
     "name": "stdout",
     "output_type": "stream",
     "text": [
      "Performance metrics for each S-parameter component:\n",
      "\n",
      "S_deemb(1,1)_real:\n",
      "  R²:   -2415.1226\n",
      "  MAE:  26.4884\n",
      "  RMSE: 29.4288\n",
      "\n",
      "S_deemb(2,1)_real:\n",
      "  R²:   -13.1371\n",
      "  MAE:  12.2662\n",
      "  RMSE: 13.8417\n",
      "\n",
      "S_deemb(1,2)_real:\n",
      "  R²:   -13067.1475\n",
      "  MAE:  10.6119\n",
      "  RMSE: 13.2735\n",
      "\n",
      "S_deemb(2,2)_real:\n",
      "  R²:   -382.3744\n",
      "  MAE:  7.3480\n",
      "  RMSE: 8.5558\n",
      "\n",
      "S_deemb(1,1)_imag:\n",
      "  R²:   -1517.6161\n",
      "  MAE:  8.2414\n",
      "  RMSE: 10.0743\n",
      "\n",
      "S_deemb(2,1)_imag:\n",
      "  R²:   -176.8819\n",
      "  MAE:  24.8440\n",
      "  RMSE: 29.4351\n",
      "\n",
      "S_deemb(1,2)_imag:\n",
      "  R²:   -28584.6074\n",
      "  MAE:  11.8184\n",
      "  RMSE: 14.1460\n",
      "\n",
      "S_deemb(2,2)_imag:\n",
      "  R²:   -2084.7585\n",
      "  MAE:  6.9029\n",
      "  RMSE: 8.0568\n"
     ]
    }
   ],
   "source": [
    "print(\"Performance metrics for each S-parameter component:\")\n",
    "for i, label in enumerate(s_labels):\n",
    "    print(f\"\\n{label}:\")\n",
    "    print(f\"  R²:   {metrics['R2'][i]:.4f}\")\n",
    "    print(f\"  MAE:  {metrics['MAE'][i]:.4f}\")\n",
    "    print(f\"  RMSE: {metrics['RMSE'][i]:.4f}\")"
   ]
  }
 ],
 "metadata": {
  "kernelspec": {
   "display_name": "env",
   "language": "python",
   "name": "python3"
  },
  "language_info": {
   "codemirror_mode": {
    "name": "ipython",
    "version": 3
   },
   "file_extension": ".py",
   "mimetype": "text/x-python",
   "name": "python",
   "nbconvert_exporter": "python",
   "pygments_lexer": "ipython3",
   "version": "3.12.3"
  }
 },
 "nbformat": 4,
 "nbformat_minor": 5
}
